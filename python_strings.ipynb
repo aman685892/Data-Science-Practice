{
  "nbformat": 4,
  "nbformat_minor": 0,
  "metadata": {
    "colab": {
      "provenance": []
    },
    "kernelspec": {
      "name": "python3",
      "display_name": "Python 3"
    },
    "language_info": {
      "name": "python"
    }
  },
  "cells": [
    {
      "cell_type": "code",
      "source": [
        "aman"
      ],
      "metadata": {
        "colab": {
          "base_uri": "https://localhost:8080/",
          "height": 141
        },
        "id": "NpAsvTx_Rfs3",
        "outputId": "383e489f-4d19-43f8-b051-3a049915ed47"
      },
      "execution_count": 20,
      "outputs": [
        {
          "output_type": "error",
          "ename": "NameError",
          "evalue": "name 'aman' is not defined",
          "traceback": [
            "\u001b[0;31m---------------------------------------------------------------------------\u001b[0m",
            "\u001b[0;31mNameError\u001b[0m                                 Traceback (most recent call last)",
            "\u001b[0;32m/tmp/ipython-input-2905155541.py\u001b[0m in \u001b[0;36m<cell line: 0>\u001b[0;34m()\u001b[0m\n\u001b[0;32m----> 1\u001b[0;31m \u001b[0maman\u001b[0m\u001b[0;34m\u001b[0m\u001b[0;34m\u001b[0m\u001b[0m\n\u001b[0m",
            "\u001b[0;31mNameError\u001b[0m: name 'aman' is not defined"
          ]
        }
      ]
    },
    {
      "cell_type": "code",
      "source": [
        "x= \"dristi\"\n",
        "print(x)"
      ],
      "metadata": {
        "id": "WAUWqHtlUyIy"
      },
      "execution_count": null,
      "outputs": []
    },
    {
      "cell_type": "code",
      "source": [
        "y=\"pragati\"\n",
        "print(y+5)"
      ],
      "metadata": {
        "id": "nIR6iwcqU8pe"
      },
      "execution_count": null,
      "outputs": []
    },
    {
      "cell_type": "code",
      "source": [
        "print(y+str(5))"
      ],
      "metadata": {
        "id": "wEZHwg0RVNRQ"
      },
      "execution_count": null,
      "outputs": []
    },
    {
      "cell_type": "code",
      "source": [
        "'aman'"
      ],
      "metadata": {
        "id": "nPjFoDn9H4mh"
      },
      "execution_count": null,
      "outputs": []
    },
    {
      "cell_type": "code",
      "source": [
        "x=\"prashant\"\n",
        "print(x)"
      ],
      "metadata": {
        "id": "Pagufs1rIePO"
      },
      "execution_count": null,
      "outputs": []
    },
    {
      "cell_type": "code",
      "source": [
        "c=67\n",
        "print(c+\"dollar\")"
      ],
      "metadata": {
        "id": "Lp-6q8ZiI7m6"
      },
      "execution_count": null,
      "outputs": []
    },
    {
      "cell_type": "code",
      "source": [
        "print(str(c)+\"dollar\")"
      ],
      "metadata": {
        "id": "psQlrWXiJEFB"
      },
      "execution_count": null,
      "outputs": []
    },
    {
      "cell_type": "code",
      "source": [
        "\"I'm fine \""
      ],
      "metadata": {
        "id": "y6Zv3FwkJibY"
      },
      "execution_count": null,
      "outputs": []
    },
    {
      "cell_type": "code",
      "source": [
        "\"I\\'m fine\""
      ],
      "metadata": {
        "id": "SLUpa0jvJpAS"
      },
      "execution_count": null,
      "outputs": []
    },
    {
      "cell_type": "code",
      "source": [
        "\"press 'enter'\""
      ],
      "metadata": {
        "id": "JpUebg5uJ4mi"
      },
      "execution_count": null,
      "outputs": []
    },
    {
      "cell_type": "code",
      "source": [
        "print(4,5)"
      ],
      "metadata": {
        "id": "ZOGka1OTKT-D"
      },
      "execution_count": null,
      "outputs": []
    },
    {
      "cell_type": "code",
      "source": [
        "print(\"aman\",\"prashant\",\"dristi\")"
      ],
      "metadata": {
        "id": "yFaTNB4mKWJr"
      },
      "execution_count": null,
      "outputs": []
    },
    {
      "cell_type": "code",
      "source": [
        "\"red\" \"car\""
      ],
      "metadata": {
        "id": "1E2NXA-uKgoh"
      },
      "execution_count": null,
      "outputs": []
    },
    {
      "cell_type": "code",
      "source": [
        "\"red\"  \"car\""
      ],
      "metadata": {
        "id": "cNEb1lVbKlY9"
      },
      "execution_count": null,
      "outputs": []
    },
    {
      "cell_type": "code",
      "source": [
        "\"red\"\\ \"car\""
      ],
      "metadata": {
        "id": "FTPCr75oKpaJ"
      },
      "execution_count": null,
      "outputs": []
    },
    {
      "cell_type": "code",
      "source": [
        "\"red\",\"car\""
      ],
      "metadata": {
        "id": "pxPbN9eaKv9g"
      },
      "execution_count": null,
      "outputs": []
    },
    {
      "cell_type": "code",
      "source": [
        "\"red\"+\"car\""
      ],
      "metadata": {
        "id": "31sBW6SMK_sX"
      },
      "execution_count": null,
      "outputs": []
    },
    {
      "cell_type": "code",
      "source": [
        "print(4,9)"
      ],
      "metadata": {
        "id": "24DZe3T6LC3Z"
      },
      "execution_count": null,
      "outputs": []
    },
    {
      "cell_type": "code",
      "source": [
        "3,5,7.8,\"aman\""
      ],
      "metadata": {
        "colab": {
          "base_uri": "https://localhost:8080/"
        },
        "id": "Gj5MKLdwNKdl",
        "outputId": "b7d1222d-f645-481b-e5f1-9f3eb6e2d2e5"
      },
      "execution_count": 21,
      "outputs": [
        {
          "output_type": "execute_result",
          "data": {
            "text/plain": [
              "(3, 5, 7.8, 'aman')"
            ]
          },
          "metadata": {},
          "execution_count": 21
        }
      ]
    }
  ]
}