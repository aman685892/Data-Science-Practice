{
  "nbformat": 4,
  "nbformat_minor": 0,
  "metadata": {
    "colab": {
      "provenance": []
    },
    "kernelspec": {
      "name": "python3",
      "display_name": "Python 3"
    },
    "language_info": {
      "name": "python"
    }
  },
  "cells": [
    {
      "cell_type": "code",
      "execution_count": null,
      "metadata": {
        "colab": {
          "base_uri": "https://localhost:8080/"
        },
        "id": "pt3IfCzfQl15",
        "outputId": "99e35815-7c2d-45a5-fc30-0a39712c8e41"
      },
      "outputs": [
        {
          "output_type": "stream",
          "name": "stdout",
          "text": [
            "It's cool,isn't it?\n"
          ]
        }
      ],
      "source": [
        "print(\"It's\",\"cool\" ','\"isn't\",\"it?\")"
      ]
    }
  ]
}