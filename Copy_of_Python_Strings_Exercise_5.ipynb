{
  "nbformat": 4,
  "nbformat_minor": 0,
  "metadata": {
    "colab": {
      "provenance": []
    },
    "kernelspec": {
      "name": "python3",
      "display_name": "Python 3"
    },
    "language_info": {
      "name": "python"
    }
  },
  "cells": [
    {
      "cell_type": "code",
      "source": [
        "print(\"Big\",\"Houses\")"
      ],
      "metadata": {
        "id": "Ju4D_G33Y9QK",
        "outputId": "9fee0693-76a1-46a9-908e-b68af44e1df1",
        "colab": {
          "base_uri": "https://localhost:8080/"
        }
      },
      "execution_count": null,
      "outputs": [
        {
          "output_type": "stream",
          "name": "stdout",
          "text": [
            "Big Houses\n"
          ]
        }
      ]
    }
  ]
}