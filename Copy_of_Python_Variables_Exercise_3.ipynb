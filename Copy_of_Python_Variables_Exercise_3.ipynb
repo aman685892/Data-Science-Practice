{
  "nbformat": 4,
  "nbformat_minor": 0,
  "metadata": {
    "colab": {
      "provenance": []
    },
    "kernelspec": {
      "name": "python3",
      "display_name": "Python 3"
    },
    "language_info": {
      "name": "python"
    }
  },
  "cells": [
    {
      "cell_type": "code",
      "source": [
        "a,b,c,d=(10,20,30,40)"
      ],
      "metadata": {
        "id": "A-LPWQkV4RkR"
      },
      "execution_count": null,
      "outputs": []
    },
    {
      "cell_type": "code",
      "source": [
        "a,b,c,d=10,20,30,40"
      ],
      "metadata": {
        "id": "5kS849S95V0I"
      },
      "execution_count": null,
      "outputs": []
    }
  ]
}