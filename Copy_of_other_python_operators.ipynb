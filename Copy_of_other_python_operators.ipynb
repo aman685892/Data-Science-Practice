{
  "nbformat": 4,
  "nbformat_minor": 0,
  "metadata": {
    "colab": {
      "provenance": []
    },
    "kernelspec": {
      "name": "python3",
      "display_name": "Python 3"
    },
    "language_info": {
      "name": "python"
    }
  },
  "cells": [
    {
      "cell_type": "code",
      "execution_count": null,
      "metadata": {
        "colab": {
          "base_uri": "https://localhost:8080/"
        },
        "id": "1USUBI196AHW",
        "outputId": "b1d0f289-99e4-4fe7-c0da-1f74c3805f09"
      },
      "outputs": [
        {
          "output_type": "execute_result",
          "data": {
            "text/plain": [
              "True"
            ]
          },
          "metadata": {},
          "execution_count": 1
        }
      ],
      "source": [
        "10==10"
      ]
    },
    {
      "cell_type": "code",
      "source": [
        "10!=10"
      ],
      "metadata": {
        "colab": {
          "base_uri": "https://localhost:8080/"
        },
        "id": "eI-Qeo3l6TFG",
        "outputId": "06b0b08c-b019-4526-8a1f-f47a052a0985"
      },
      "execution_count": null,
      "outputs": [
        {
          "output_type": "execute_result",
          "data": {
            "text/plain": [
              "False"
            ]
          },
          "metadata": {},
          "execution_count": 2
        }
      ]
    },
    {
      "cell_type": "code",
      "source": [
        "100>78"
      ],
      "metadata": {
        "colab": {
          "base_uri": "https://localhost:8080/"
        },
        "id": "rO_VZLNL6Vj-",
        "outputId": "ef2667d0-b111-4af8-d785-4227fde991e7"
      },
      "execution_count": null,
      "outputs": [
        {
          "output_type": "execute_result",
          "data": {
            "text/plain": [
              "True"
            ]
          },
          "metadata": {},
          "execution_count": 3
        }
      ]
    },
    {
      "cell_type": "code",
      "source": [
        "100<78"
      ],
      "metadata": {
        "colab": {
          "base_uri": "https://localhost:8080/"
        },
        "id": "kgGzVTkS6h1u",
        "outputId": "3328ab77-d294-4c58-e464-f77f052726cd"
      },
      "execution_count": null,
      "outputs": [
        {
          "output_type": "execute_result",
          "data": {
            "text/plain": [
              "False"
            ]
          },
          "metadata": {},
          "execution_count": 4
        }
      ]
    },
    {
      "cell_type": "code",
      "source": [
        "12>5+7"
      ],
      "metadata": {
        "colab": {
          "base_uri": "https://localhost:8080/"
        },
        "id": "8H-WgdOb6kbp",
        "outputId": "96c9256e-79ce-493f-f962-7c99eb03bbd4"
      },
      "execution_count": null,
      "outputs": [
        {
          "output_type": "execute_result",
          "data": {
            "text/plain": [
              "False"
            ]
          },
          "metadata": {},
          "execution_count": 5
        }
      ]
    },
    {
      "cell_type": "code",
      "source": [
        "67<=89"
      ],
      "metadata": {
        "colab": {
          "base_uri": "https://localhost:8080/"
        },
        "id": "K0pLNuo76npX",
        "outputId": "7da96f56-c67c-4220-81a1-a42c45734ae0"
      },
      "execution_count": null,
      "outputs": [
        {
          "output_type": "execute_result",
          "data": {
            "text/plain": [
              "True"
            ]
          },
          "metadata": {},
          "execution_count": 6
        }
      ]
    },
    {
      "cell_type": "code",
      "source": [
        "5*3<=5**3"
      ],
      "metadata": {
        "colab": {
          "base_uri": "https://localhost:8080/"
        },
        "id": "TJlokGN66xvi",
        "outputId": "9002407c-fd7b-4da5-bec4-eeb2c026c5a6"
      },
      "execution_count": null,
      "outputs": [
        {
          "output_type": "execute_result",
          "data": {
            "text/plain": [
              "True"
            ]
          },
          "metadata": {},
          "execution_count": 7
        }
      ]
    },
    {
      "cell_type": "code",
      "source": [
        "100==10**2"
      ],
      "metadata": {
        "colab": {
          "base_uri": "https://localhost:8080/"
        },
        "id": "WgfTyqbi62Uo",
        "outputId": "9661447c-1b27-4e8b-8342-62dcb8efbd90"
      },
      "execution_count": null,
      "outputs": [
        {
          "output_type": "execute_result",
          "data": {
            "text/plain": [
              "True"
            ]
          },
          "metadata": {},
          "execution_count": 8
        }
      ]
    },
    {
      "cell_type": "code",
      "source": [
        "53!=46"
      ],
      "metadata": {
        "colab": {
          "base_uri": "https://localhost:8080/"
        },
        "id": "0om67FXO66Wi",
        "outputId": "58fa38a7-dd2f-4867-8bff-a40c63661de8"
      },
      "execution_count": null,
      "outputs": [
        {
          "output_type": "execute_result",
          "data": {
            "text/plain": [
              "True"
            ]
          },
          "metadata": {},
          "execution_count": 9
        }
      ]
    },
    {
      "cell_type": "markdown",
      "source": [
        "**LOGICAL AND, OR, NOT OPERATORS**"
      ],
      "metadata": {
        "id": "Ci0L9aIz7SJ2"
      }
    },
    {
      "cell_type": "code",
      "source": [
        "True and True"
      ],
      "metadata": {
        "colab": {
          "base_uri": "https://localhost:8080/"
        },
        "id": "tv4TaE2C7XLK",
        "outputId": "d725f35d-0819-4205-f63d-a0494c9a9b9b"
      },
      "execution_count": null,
      "outputs": [
        {
          "output_type": "execute_result",
          "data": {
            "text/plain": [
              "True"
            ]
          },
          "metadata": {},
          "execution_count": 10
        }
      ]
    },
    {
      "cell_type": "code",
      "source": [
        "True and False"
      ],
      "metadata": {
        "colab": {
          "base_uri": "https://localhost:8080/"
        },
        "id": "egXeIHhj7bhX",
        "outputId": "6f6c7841-06f9-4ed9-b579-7f90ac8b1229"
      },
      "execution_count": null,
      "outputs": [
        {
          "output_type": "execute_result",
          "data": {
            "text/plain": [
              "False"
            ]
          },
          "metadata": {},
          "execution_count": 11
        }
      ]
    },
    {
      "cell_type": "code",
      "source": [
        "False and False"
      ],
      "metadata": {
        "colab": {
          "base_uri": "https://localhost:8080/"
        },
        "id": "pfSXm3O27j_h",
        "outputId": "0b785786-23e0-4954-b2cb-5a3391ef883d"
      },
      "execution_count": null,
      "outputs": [
        {
          "output_type": "execute_result",
          "data": {
            "text/plain": [
              "False"
            ]
          },
          "metadata": {},
          "execution_count": 12
        }
      ]
    },
    {
      "cell_type": "code",
      "source": [
        "True or True"
      ],
      "metadata": {
        "colab": {
          "base_uri": "https://localhost:8080/"
        },
        "id": "Qff2ir-r7ojK",
        "outputId": "040e7079-b9e9-4e5e-9d8f-3d0a984b1787"
      },
      "execution_count": null,
      "outputs": [
        {
          "output_type": "execute_result",
          "data": {
            "text/plain": [
              "True"
            ]
          },
          "metadata": {},
          "execution_count": 13
        }
      ]
    },
    {
      "cell_type": "code",
      "source": [
        "False or False"
      ],
      "metadata": {
        "colab": {
          "base_uri": "https://localhost:8080/"
        },
        "id": "b6vajU4n7sim",
        "outputId": "01879841-ac04-42da-cfde-5e35b81b7515"
      },
      "execution_count": null,
      "outputs": [
        {
          "output_type": "execute_result",
          "data": {
            "text/plain": [
              "False"
            ]
          },
          "metadata": {},
          "execution_count": 14
        }
      ]
    },
    {
      "cell_type": "code",
      "source": [
        "True or False"
      ],
      "metadata": {
        "colab": {
          "base_uri": "https://localhost:8080/"
        },
        "id": "Ep3vQXqD7u6O",
        "outputId": "70314d81-ff0d-4c25-8701-cc4f8b541669"
      },
      "execution_count": null,
      "outputs": [
        {
          "output_type": "execute_result",
          "data": {
            "text/plain": [
              "True"
            ]
          },
          "metadata": {},
          "execution_count": 15
        }
      ]
    },
    {
      "cell_type": "code",
      "source": [
        "False or True"
      ],
      "metadata": {
        "colab": {
          "base_uri": "https://localhost:8080/"
        },
        "id": "wURCC-cn7x2b",
        "outputId": "a05f828b-bba6-436b-f1f0-7a00cd368b59"
      },
      "execution_count": null,
      "outputs": [
        {
          "output_type": "execute_result",
          "data": {
            "text/plain": [
              "True"
            ]
          },
          "metadata": {},
          "execution_count": 16
        }
      ]
    },
    {
      "cell_type": "code",
      "source": [
        "not True"
      ],
      "metadata": {
        "colab": {
          "base_uri": "https://localhost:8080/"
        },
        "id": "bmnqNPPf8EVF",
        "outputId": "6fe9d21d-a5b1-4444-f50e-ef3223315ce6"
      },
      "execution_count": null,
      "outputs": [
        {
          "output_type": "execute_result",
          "data": {
            "text/plain": [
              "False"
            ]
          },
          "metadata": {},
          "execution_count": 17
        }
      ]
    },
    {
      "cell_type": "code",
      "source": [
        "12>6 and  3<2"
      ],
      "metadata": {
        "colab": {
          "base_uri": "https://localhost:8080/"
        },
        "id": "Z2xN9kOL8HP0",
        "outputId": "db8cf7b6-4c71-4ac9-f373-08986c850d08"
      },
      "execution_count": null,
      "outputs": [
        {
          "output_type": "execute_result",
          "data": {
            "text/plain": [
              "False"
            ]
          },
          "metadata": {},
          "execution_count": 18
        }
      ]
    },
    {
      "cell_type": "code",
      "source": [],
      "metadata": {
        "id": "HGDvyqb08OQH"
      },
      "execution_count": null,
      "outputs": []
    },
    {
      "cell_type": "markdown",
      "source": [
        "Logical operators\n",
        "\n",
        "not\n",
        "and\n",
        "or"
      ],
      "metadata": {
        "id": "svsKxclc8Trd"
      }
    },
    {
      "cell_type": "code",
      "source": [
        "True and not True"
      ],
      "metadata": {
        "colab": {
          "base_uri": "https://localhost:8080/"
        },
        "id": "qq6vPmQ18ZEd",
        "outputId": "063695a0-b08f-4489-c81b-73526996416b"
      },
      "execution_count": null,
      "outputs": [
        {
          "output_type": "execute_result",
          "data": {
            "text/plain": [
              "False"
            ]
          },
          "metadata": {},
          "execution_count": 19
        }
      ]
    },
    {
      "cell_type": "code",
      "source": [
        "False or not True and  True"
      ],
      "metadata": {
        "colab": {
          "base_uri": "https://localhost:8080/"
        },
        "id": "Y8ODZuVv8vLy",
        "outputId": "ee36f77f-6043-4491-b3e2-1b9f3448cf9b"
      },
      "execution_count": null,
      "outputs": [
        {
          "output_type": "execute_result",
          "data": {
            "text/plain": [
              "False"
            ]
          },
          "metadata": {},
          "execution_count": 20
        }
      ]
    },
    {
      "cell_type": "code",
      "source": [],
      "metadata": {
        "id": "N1ZTI0MW9Asc"
      },
      "execution_count": null,
      "outputs": []
    },
    {
      "cell_type": "markdown",
      "source": [
        "Identity operators"
      ],
      "metadata": {
        "id": "MdXhq8TX9Q9F"
      }
    },
    {
      "cell_type": "code",
      "source": [
        "5 is 6"
      ],
      "metadata": {
        "colab": {
          "base_uri": "https://localhost:8080/"
        },
        "id": "lkRI4IMb9VBl",
        "outputId": "597112a3-962e-4010-86cb-07069690869d"
      },
      "execution_count": null,
      "outputs": [
        {
          "output_type": "stream",
          "name": "stderr",
          "text": [
            "<>:1: SyntaxWarning: \"is\" with 'int' literal. Did you mean \"==\"?\n",
            "<>:1: SyntaxWarning: \"is\" with 'int' literal. Did you mean \"==\"?\n",
            "/tmp/ipython-input-2929037671.py:1: SyntaxWarning: \"is\" with 'int' literal. Did you mean \"==\"?\n",
            "  5 is 6\n"
          ]
        },
        {
          "output_type": "execute_result",
          "data": {
            "text/plain": [
              "False"
            ]
          },
          "metadata": {},
          "execution_count": 23
        }
      ]
    },
    {
      "cell_type": "code",
      "source": [
        "5 is not 7"
      ],
      "metadata": {
        "colab": {
          "base_uri": "https://localhost:8080/"
        },
        "id": "-IUG_S-19sMJ",
        "outputId": "4795457f-5ad2-4fb9-eb64-7a6171796388"
      },
      "execution_count": null,
      "outputs": [
        {
          "output_type": "stream",
          "name": "stderr",
          "text": [
            "<>:1: SyntaxWarning: \"is not\" with 'int' literal. Did you mean \"!=\"?\n",
            "<>:1: SyntaxWarning: \"is not\" with 'int' literal. Did you mean \"!=\"?\n",
            "/tmp/ipython-input-484852477.py:1: SyntaxWarning: \"is not\" with 'int' literal. Did you mean \"!=\"?\n",
            "  5 is not 7\n"
          ]
        },
        {
          "output_type": "execute_result",
          "data": {
            "text/plain": [
              "True"
            ]
          },
          "metadata": {},
          "execution_count": 24
        }
      ]
    },
    {
      "cell_type": "code",
      "source": [
        "5!=8"
      ],
      "metadata": {
        "colab": {
          "base_uri": "https://localhost:8080/"
        },
        "id": "c9DdCHK699pf",
        "outputId": "bc9be70e-3602-4e1e-a926-b3aed42f1d9a"
      },
      "execution_count": null,
      "outputs": [
        {
          "output_type": "execute_result",
          "data": {
            "text/plain": [
              "True"
            ]
          },
          "metadata": {},
          "execution_count": 25
        }
      ]
    },
    {
      "cell_type": "code",
      "source": [
        "False or not True and not False"
      ],
      "metadata": {
        "colab": {
          "base_uri": "https://localhost:8080/"
        },
        "id": "f2Rm6pTw-Q_J",
        "outputId": "63bdcc89-51dd-4ce6-ebf9-35f1eabab84e"
      },
      "execution_count": null,
      "outputs": [
        {
          "output_type": "execute_result",
          "data": {
            "text/plain": [
              "False"
            ]
          },
          "metadata": {},
          "execution_count": 26
        }
      ]
    },
    {
      "cell_type": "code",
      "source": [
        "True and not False and True or not False"
      ],
      "metadata": {
        "colab": {
          "base_uri": "https://localhost:8080/"
        },
        "id": "3MsEUzQ7-lnY",
        "outputId": "0e79bd4d-ba27-411a-ecba-a43a6bae3cc9"
      },
      "execution_count": null,
      "outputs": [
        {
          "output_type": "execute_result",
          "data": {
            "text/plain": [
              "True"
            ]
          },
          "metadata": {},
          "execution_count": 27
        }
      ]
    },
    {
      "cell_type": "markdown",
      "source": [
        "Let’s break it step by step 🙂\n",
        "\n",
        "Your expression:\n",
        "\n",
        "```python\n",
        "True and not False and True or not False\n",
        "```\n",
        "\n",
        "👉 Operator precedence in Python:\n",
        "\n",
        "1. `not`\n",
        "2. `and`\n",
        "3. `or`\n",
        "\n",
        "So we evaluate:\n",
        "\n",
        "1. `not False` → `True`\n",
        "   Expression becomes:\n",
        "\n",
        "   ```python\n",
        "   True and True and True or True\n",
        "   ```\n",
        "\n",
        "2. Left to right with `and`:\n",
        "\n",
        "   * `True and True` → `True`\n",
        "   * `True and True` → `True`\n",
        "\n",
        "   Now:\n",
        "\n",
        "   ```python\n",
        "   True or True\n",
        "   ```\n",
        "\n",
        "3. `True or True` → `True`\n",
        "\n",
        "✅ Final result = **`True`**\n",
        "\n",
        "Do you want me to show you a truth-table style breakdown for such expressions so it’s super clear for any combo?\n"
      ],
      "metadata": {
        "id": "aVP4z18f-zaC"
      }
    },
    {
      "cell_type": "code",
      "source": [
        "True or False and False"
      ],
      "metadata": {
        "colab": {
          "base_uri": "https://localhost:8080/"
        },
        "id": "NS10uOzb-1KV",
        "outputId": "33a75019-cc04-4aed-d888-9630ba3460a5"
      },
      "execution_count": null,
      "outputs": [
        {
          "output_type": "execute_result",
          "data": {
            "text/plain": [
              "True"
            ]
          },
          "metadata": {},
          "execution_count": 28
        }
      ]
    },
    {
      "cell_type": "code",
      "source": [
        "False and True or False"
      ],
      "metadata": {
        "colab": {
          "base_uri": "https://localhost:8080/"
        },
        "id": "ugchiyCu_DSV",
        "outputId": "647b59ba-877b-4370-c5d8-98d7cb76610d"
      },
      "execution_count": null,
      "outputs": [
        {
          "output_type": "execute_result",
          "data": {
            "text/plain": [
              "False"
            ]
          },
          "metadata": {},
          "execution_count": 29
        }
      ]
    },
    {
      "cell_type": "code",
      "source": [
        "10 is not 12"
      ],
      "metadata": {
        "colab": {
          "base_uri": "https://localhost:8080/"
        },
        "id": "50lrEa67_K8M",
        "outputId": "5dce3af3-791a-4aa7-f268-6d837df95653"
      },
      "execution_count": null,
      "outputs": [
        {
          "output_type": "stream",
          "name": "stderr",
          "text": [
            "<>:1: SyntaxWarning: \"is not\" with 'int' literal. Did you mean \"!=\"?\n",
            "<>:1: SyntaxWarning: \"is not\" with 'int' literal. Did you mean \"!=\"?\n",
            "/tmp/ipython-input-2742155778.py:1: SyntaxWarning: \"is not\" with 'int' literal. Did you mean \"!=\"?\n",
            "  10 is not 12\n"
          ]
        },
        {
          "output_type": "execute_result",
          "data": {
            "text/plain": [
              "True"
            ]
          },
          "metadata": {},
          "execution_count": 30
        }
      ]
    },
    {
      "cell_type": "code",
      "source": [
        "50 is 50"
      ],
      "metadata": {
        "colab": {
          "base_uri": "https://localhost:8080/"
        },
        "id": "2IXcJEBI_eEb",
        "outputId": "13eb48e1-deff-475d-c62c-d829bcd94266"
      },
      "execution_count": null,
      "outputs": [
        {
          "output_type": "stream",
          "name": "stderr",
          "text": [
            "<>:1: SyntaxWarning: \"is\" with 'int' literal. Did you mean \"==\"?\n",
            "<>:1: SyntaxWarning: \"is\" with 'int' literal. Did you mean \"==\"?\n",
            "/tmp/ipython-input-4077015830.py:1: SyntaxWarning: \"is\" with 'int' literal. Did you mean \"==\"?\n",
            "  50 is 50\n"
          ]
        },
        {
          "output_type": "execute_result",
          "data": {
            "text/plain": [
              "True"
            ]
          },
          "metadata": {},
          "execution_count": 31
        }
      ]
    },
    {
      "cell_type": "markdown",
      "source": [
        "IF STATEMENT"
      ],
      "metadata": {
        "id": "UEeJQy6Y_yCf"
      }
    },
    {
      "cell_type": "code",
      "source": [],
      "metadata": {
        "id": "TO-CQY6E_UOP"
      },
      "execution_count": null,
      "outputs": []
    },
    {
      "cell_type": "code",
      "source": [
        "if 5==15/3:\n",
        "  print(\"hello\")\n"
      ],
      "metadata": {
        "colab": {
          "base_uri": "https://localhost:8080/"
        },
        "id": "J5mGiHZY_0Ky",
        "outputId": "99bf0da6-79f4-40dd-d177-97ff0c6f935b"
      },
      "execution_count": null,
      "outputs": [
        {
          "output_type": "stream",
          "name": "stdout",
          "text": [
            "hello\n"
          ]
        }
      ]
    },
    {
      "cell_type": "code",
      "source": [
        "if 5==89:\n",
        "  print(\"aman\")"
      ],
      "metadata": {
        "id": "nM-1f2egAMsk"
      },
      "execution_count": null,
      "outputs": []
    },
    {
      "cell_type": "code",
      "source": [
        "if 5!=6*7:\n",
        "  print(\"hello\")"
      ],
      "metadata": {
        "colab": {
          "base_uri": "https://localhost:8080/"
        },
        "id": "qnOAvWFdARJ8",
        "outputId": "b0ba1698-dfd7-4c89-bad5-362aa72228ad"
      },
      "execution_count": null,
      "outputs": [
        {
          "output_type": "stream",
          "name": "stdout",
          "text": [
            "hello\n"
          ]
        }
      ]
    },
    {
      "cell_type": "code",
      "source": [
        "if 5>2:\n",
        "    print(\"The condition has been satisfied\")"
      ],
      "metadata": {
        "colab": {
          "base_uri": "https://localhost:8080/"
        },
        "id": "JsGn9n0_A3se",
        "outputId": "034056f4-9d83-4a82-fe11-ca036fb2861c"
      },
      "execution_count": null,
      "outputs": [
        {
          "output_type": "stream",
          "name": "stdout",
          "text": [
            "The condition has been satisfied\n"
          ]
        }
      ]
    },
    {
      "cell_type": "code",
      "source": [
        "x=10\n",
        "y=25\n",
        "\n",
        "if x>3 and y>13:\n",
        "    print(\"Both conditions are correct\")\n",
        "\n",
        "if x<=3 or y<=13:\n",
        "    print(\"At least one of the conditions is false\")\n"
      ],
      "metadata": {
        "colab": {
          "base_uri": "https://localhost:8080/"
        },
        "id": "Vn-FRK9hCdOR",
        "outputId": "4188db02-846f-4b1d-c393-7355ca94964a"
      },
      "execution_count": null,
      "outputs": [
        {
          "output_type": "stream",
          "name": "stdout",
          "text": [
            "Both conditions are correct\n"
          ]
        }
      ]
    },
    {
      "cell_type": "code",
      "source": [
        "x=1\n",
        "if x>5:\n",
        "  print(\"case1\")\n",
        "\n",
        "if x<5:\n",
        "  print(\"case2\")"
      ],
      "metadata": {
        "colab": {
          "base_uri": "https://localhost:8080/"
        },
        "id": "BUkAiNFvC6-3",
        "outputId": "53c3ec0d-37d0-467e-c951-f3bd42149f39"
      },
      "execution_count": null,
      "outputs": [
        {
          "output_type": "stream",
          "name": "stdout",
          "text": [
            "case2\n"
          ]
        }
      ]
    },
    {
      "cell_type": "code",
      "source": [
        "if x>5:\n",
        "  print(\"case1\")\n",
        "else:\n",
        "  print(\"hello\")\n"
      ],
      "metadata": {
        "colab": {
          "base_uri": "https://localhost:8080/"
        },
        "id": "qxy7PHyDDPXJ",
        "outputId": "d49375a0-47e6-47b2-b1bf-29936d22bfc2"
      },
      "execution_count": null,
      "outputs": [
        {
          "output_type": "stream",
          "name": "stdout",
          "text": [
            "hello\n"
          ]
        }
      ]
    },
    {
      "cell_type": "code",
      "source": [
        "x=int(input(\"Enter the number of orders\"))\n",
        "if x>100:\n",
        "    print(\"A busy day\")\n",
        "else:\n",
        "    print(\"A calm day\")"
      ],
      "metadata": {
        "colab": {
          "base_uri": "https://localhost:8080/"
        },
        "id": "TTf1F9zWDi94",
        "outputId": "9316799b-e044-4fe3-e88b-0257828e6cd6"
      },
      "execution_count": null,
      "outputs": [
        {
          "output_type": "stream",
          "name": "stdout",
          "text": [
            "Enter the number of orders78\n",
            "A calm day\n"
          ]
        }
      ]
    },
    {
      "cell_type": "code",
      "source": [
        "x = 234\n",
        "\n",
        "if x > 100:\n",
        "    print (\"A busy day\")\n",
        "else:\n",
        "    print (\"A calm day\")"
      ],
      "metadata": {
        "colab": {
          "base_uri": "https://localhost:8080/"
        },
        "id": "LDZxZf5eEzeq",
        "outputId": "b688df01-63f4-44cf-fd07-6c700bcd0f9e"
      },
      "execution_count": null,
      "outputs": [
        {
          "output_type": "stream",
          "name": "stdout",
          "text": [
            "A busy day\n"
          ]
        }
      ]
    },
    {
      "cell_type": "code",
      "source": [
        "def compare_to_five(y):\n",
        "  if y>5:\n",
        "    return \"Greater\"\n",
        "  elif y<5 :\n",
        "    return \"less\"\n",
        "  elif y<0:\n",
        "    return \"negative\"\n",
        "  else :\n",
        "    return \"equal\""
      ],
      "metadata": {
        "id": "Qup_75ylFGhK"
      },
      "execution_count": null,
      "outputs": []
    },
    {
      "cell_type": "code",
      "source": [
        "print(compare_to_five(13))"
      ],
      "metadata": {
        "colab": {
          "base_uri": "https://localhost:8080/"
        },
        "id": "15BOGHeBFtr8",
        "outputId": "b812d485-d8ec-4e2f-804c-f7639523aa39"
      },
      "execution_count": null,
      "outputs": [
        {
          "output_type": "stream",
          "name": "stdout",
          "text": [
            "Greater\n"
          ]
        }
      ]
    },
    {
      "cell_type": "code",
      "source": [
        "print(compare_to_five(2))"
      ],
      "metadata": {
        "colab": {
          "base_uri": "https://localhost:8080/"
        },
        "id": "zyj0gqRLFzu2",
        "outputId": "452d1b09-2dd2-4f7d-dd36-eb954a5dfbf8"
      },
      "execution_count": null,
      "outputs": [
        {
          "output_type": "stream",
          "name": "stdout",
          "text": [
            "less\n"
          ]
        }
      ]
    },
    {
      "cell_type": "code",
      "source": [
        "print(compare_to_five(-8))"
      ],
      "metadata": {
        "colab": {
          "base_uri": "https://localhost:8080/"
        },
        "id": "_QQDRxLXGHGK",
        "outputId": "7f6b8ee2-16ff-4cab-b89e-d0837c2fe378"
      },
      "execution_count": null,
      "outputs": [
        {
          "output_type": "stream",
          "name": "stdout",
          "text": [
            "less\n"
          ]
        }
      ]
    },
    {
      "cell_type": "code",
      "source": [
        "x = 234\n",
        "\n",
        "if x > 200:\n",
        "    print (\"Big\")\n",
        "elif x > 100 and x <= 200:\n",
        "    print (\"Average\")\n",
        "else:\n",
        "    print (\"Small\")\n"
      ],
      "metadata": {
        "colab": {
          "base_uri": "https://localhost:8080/"
        },
        "id": "14RcuyhfHv8T",
        "outputId": "14b05997-f011-4a0c-b87a-bbd38c31adf4"
      },
      "execution_count": null,
      "outputs": [
        {
          "output_type": "stream",
          "name": "stdout",
          "text": [
            "Big\n"
          ]
        }
      ]
    },
    {
      "cell_type": "code",
      "source": [
        "x = 200\n",
        "\n",
        "if x > 200:\n",
        "    print (\"Big\")\n",
        "elif x > 100 and x <= 200:\n",
        "    print (\"Average\")\n",
        "elif x >= 0 and x <= 100:\n",
        "    print (\"Small\")\n",
        "else:\n",
        "    print (\"Negative\")\n"
      ],
      "metadata": {
        "colab": {
          "base_uri": "https://localhost:8080/"
        },
        "id": "PMZHTZLXIoS6",
        "outputId": "b368b6f0-0050-463c-95bd-eb2f2d36a4bd"
      },
      "execution_count": null,
      "outputs": [
        {
          "output_type": "stream",
          "name": "stdout",
          "text": [
            "Average\n"
          ]
        }
      ]
    },
    {
      "cell_type": "code",
      "source": [
        "x=2\n",
        "if x>4:\n",
        "  print(\"correct\")\n",
        "else:\n",
        "  print(\"incorrect\")"
      ],
      "metadata": {
        "colab": {
          "base_uri": "https://localhost:8080/"
        },
        "id": "yJjkQJZOI6LR",
        "outputId": "12ac43f3-ee2f-48ce-c75f-3913bd95bcb2"
      },
      "execution_count": null,
      "outputs": [
        {
          "output_type": "stream",
          "name": "stdout",
          "text": [
            "incorrect\n"
          ]
        }
      ]
    },
    {
      "cell_type": "code",
      "source": [],
      "metadata": {
        "id": "qUd-JfLYJo_2"
      },
      "execution_count": null,
      "outputs": []
    }
  ]
}