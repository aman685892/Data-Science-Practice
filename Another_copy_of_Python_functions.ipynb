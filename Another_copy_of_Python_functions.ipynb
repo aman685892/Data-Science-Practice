{
  "nbformat": 4,
  "nbformat_minor": 0,
  "metadata": {
    "colab": {
      "provenance": []
    },
    "kernelspec": {
      "name": "python3",
      "display_name": "Python 3"
    },
    "language_info": {
      "name": "python"
    }
  },
  "cells": [
    {
      "cell_type": "code",
      "execution_count": null,
      "metadata": {
        "colab": {
          "base_uri": "https://localhost:8080/"
        },
        "id": "27FIeLvVK1L3",
        "outputId": "2876c694-3530-438d-83c2-a6b285dbf4bd"
      },
      "outputs": [
        {
          "output_type": "stream",
          "name": "stdout",
          "text": [
            "aman\n"
          ]
        }
      ],
      "source": [
        "def simple():\n",
        "  print(\"aman\")\n",
        "\n",
        "simple()"
      ]
    },
    {
      "cell_type": "code",
      "source": [
        "simple()"
      ],
      "metadata": {
        "colab": {
          "base_uri": "https://localhost:8080/"
        },
        "id": "grkXSPuoLTCP",
        "outputId": "0c0489e2-0a93-4687-d5ba-dec9bc894d51"
      },
      "execution_count": null,
      "outputs": [
        {
          "output_type": "stream",
          "name": "stdout",
          "text": [
            "aman\n"
          ]
        }
      ]
    },
    {
      "cell_type": "code",
      "source": [
        "def plus_ten(x):\n",
        "  return x+10\n",
        "\n",
        "print(plus_ten(7))"
      ],
      "metadata": {
        "colab": {
          "base_uri": "https://localhost:8080/"
        },
        "id": "VsJmJQ9YLVhN",
        "outputId": "1b803e10-9dcf-4a5b-f9fa-e1575adfd6bf"
      },
      "execution_count": null,
      "outputs": [
        {
          "output_type": "stream",
          "name": "stdout",
          "text": [
            "17\n"
          ]
        }
      ]
    },
    {
      "cell_type": "code",
      "source": [
        "plus_ten(12)"
      ],
      "metadata": {
        "colab": {
          "base_uri": "https://localhost:8080/"
        },
        "id": "P0LNhHNPLznp",
        "outputId": "7c78c5dc-3a92-4b07-adf3-2da7cc0058f6"
      },
      "execution_count": null,
      "outputs": [
        {
          "output_type": "execute_result",
          "data": {
            "text/plain": [
              "22"
            ]
          },
          "metadata": {},
          "execution_count": 87
        }
      ]
    },
    {
      "cell_type": "code",
      "source": [
        "plus_ten(56)"
      ],
      "metadata": {
        "colab": {
          "base_uri": "https://localhost:8080/"
        },
        "id": "5QVWS4TVMGEG",
        "outputId": "005fc90f-38dc-4d45-e786-e8d978f71bbb"
      },
      "execution_count": null,
      "outputs": [
        {
          "output_type": "execute_result",
          "data": {
            "text/plain": [
              "66"
            ]
          },
          "metadata": {},
          "execution_count": 88
        }
      ]
    },
    {
      "cell_type": "code",
      "source": [
        "print(plus_ten(9))"
      ],
      "metadata": {
        "colab": {
          "base_uri": "https://localhost:8080/"
        },
        "id": "_s6Y6q_kMjaG",
        "outputId": "85c3da2e-6e69-4087-b9c9-7bfcb9978624"
      },
      "execution_count": null,
      "outputs": [
        {
          "output_type": "stream",
          "name": "stdout",
          "text": [
            "19\n"
          ]
        }
      ]
    },
    {
      "cell_type": "code",
      "source": [
        "def multiplication_by_2(x):\n",
        "    return 2*x\n",
        "\n",
        "multiplication_by_2(9)"
      ],
      "metadata": {
        "colab": {
          "base_uri": "https://localhost:8080/"
        },
        "id": "4y9MFybeN2yP",
        "outputId": "d073147c-dcdc-436a-d069-736413449682"
      },
      "execution_count": null,
      "outputs": [
        {
          "output_type": "execute_result",
          "data": {
            "text/plain": [
              "18"
            ]
          },
          "metadata": {},
          "execution_count": 90
        }
      ]
    },
    {
      "cell_type": "code",
      "source": [
        "def division_by_2(x):\n",
        "    return float(x)/2\n",
        "print(division_by_2(5))"
      ],
      "metadata": {
        "colab": {
          "base_uri": "https://localhost:8080/"
        },
        "id": "-FV5DhqiOHO1",
        "outputId": "ea80b95d-c9ad-4aff-bf83-9024dcfc8527"
      },
      "execution_count": null,
      "outputs": [
        {
          "output_type": "stream",
          "name": "stdout",
          "text": [
            "2.5\n"
          ]
        }
      ]
    },
    {
      "cell_type": "code",
      "source": [
        "def plus_ten(a):\n",
        "  result= a+10\n",
        "  return result\n",
        "plus_ten(7)"
      ],
      "metadata": {
        "colab": {
          "base_uri": "https://localhost:8080/"
        },
        "id": "8Thvs9NUOok5",
        "outputId": "30492c14-b01f-41cc-b17b-5001bcd617d9"
      },
      "execution_count": null,
      "outputs": [
        {
          "output_type": "execute_result",
          "data": {
            "text/plain": [
              "17"
            ]
          },
          "metadata": {},
          "execution_count": 92
        }
      ]
    },
    {
      "cell_type": "code",
      "source": [
        "def plus_ten(a):\n",
        "  result= a+10\n",
        "  print('hello')\n",
        "  return result\n",
        "plus_ten(7)"
      ],
      "metadata": {
        "colab": {
          "base_uri": "https://localhost:8080/"
        },
        "id": "SCXg9fMtPFhw",
        "outputId": "483c4890-158d-4abe-a828-10653a5f5606"
      },
      "execution_count": null,
      "outputs": [
        {
          "output_type": "stream",
          "name": "stdout",
          "text": [
            "hello\n"
          ]
        },
        {
          "output_type": "execute_result",
          "data": {
            "text/plain": [
              "17"
            ]
          },
          "metadata": {},
          "execution_count": 93
        }
      ]
    },
    {
      "cell_type": "markdown",
      "source": [
        "upto 165 lec completed"
      ],
      "metadata": {
        "id": "q2ksDqcYPSlw"
      }
    },
    {
      "cell_type": "code",
      "source": [
        "def plus_ten(a):\n",
        "  result= a+10\n",
        "  return result\n",
        "print(plus_ten(6))"
      ],
      "metadata": {
        "id": "G1SHroiFPXFO",
        "colab": {
          "base_uri": "https://localhost:8080/"
        },
        "outputId": "e01b780a-01a0-4aa5-9bf0-ad903fa69d9a"
      },
      "execution_count": null,
      "outputs": [
        {
          "output_type": "stream",
          "name": "stdout",
          "text": [
            "16\n"
          ]
        }
      ]
    },
    {
      "cell_type": "code",
      "source": [
        "def plus_ten(a):\n",
        "  result=a+10\n",
        "  print(\"hello\")\n",
        "  return result\n",
        "plus_ten(5)"
      ],
      "metadata": {
        "colab": {
          "base_uri": "https://localhost:8080/"
        },
        "id": "9dLnR4Fe8OLj",
        "outputId": "f10144a2-1e1a-4d82-925a-57c5ce9a2af6"
      },
      "execution_count": null,
      "outputs": [
        {
          "output_type": "stream",
          "name": "stdout",
          "text": [
            "hello\n"
          ]
        },
        {
          "output_type": "execute_result",
          "data": {
            "text/plain": [
              "15"
            ]
          },
          "metadata": {},
          "execution_count": 95
        }
      ]
    },
    {
      "cell_type": "code",
      "source": [
        "def exponentiation_exp_2(x):\n",
        "    result = x ** 2\n",
        "    print(f\"{x} Raised to the power of 2:\")\n",
        "    return result\n",
        "\n",
        "\n",
        "exponentiation_exp_2(5)\n"
      ],
      "metadata": {
        "colab": {
          "base_uri": "https://localhost:8080/"
        },
        "id": "MiytreHI9N8L",
        "outputId": "956ce6e8-a941-4238-f41b-8afd8dfe4479"
      },
      "execution_count": null,
      "outputs": [
        {
          "output_type": "stream",
          "name": "stdout",
          "text": [
            "5 Raised to the power of 2:\n"
          ]
        },
        {
          "output_type": "execute_result",
          "data": {
            "text/plain": [
              "25"
            ]
          },
          "metadata": {},
          "execution_count": 96
        }
      ]
    },
    {
      "cell_type": "markdown",
      "source": [
        "Perfect question 👍 Let’s zoom into this line only:\n",
        "\n",
        "```python\n",
        "print(f\"{x} Raised to the power of 2:\")\n",
        "```\n",
        "\n",
        "---\n",
        "\n",
        "### 🔎 Explanation:\n",
        "\n",
        "1. **`print(...)`**\n",
        "\n",
        "   * The `print()` function in Python is used to display something on the screen.\n",
        "\n",
        "2. **`f\"...\"` → f-string (formatted string literal)**\n",
        "\n",
        "   * The `f` before the string means: **formatted string**.\n",
        "   * Inside an f-string, anything inside `{ }` will be evaluated (calculated) as Python code and then inserted into the string.\n",
        "\n",
        "3. **`{x}`**\n",
        "\n",
        "   * This means: take the value of the variable `x` and put it here in the string.\n",
        "\n",
        "4. **Full string:**\n",
        "\n",
        "   * If `x = 5`, then:\n",
        "\n",
        "     ```python\n",
        "     f\"{x} Raised to the power of 2:\"\n",
        "     ```\n",
        "\n",
        "     becomes\n",
        "\n",
        "     ```python\n",
        "     \"5 Raised to the power of 2:\"\n",
        "     ```\n",
        "\n",
        "5. **Finally, `print(...)`**\n",
        "\n",
        "   * Sends that string to the console.\n",
        "\n",
        "---\n",
        "\n",
        "### 🖥️ Example:\n",
        "\n",
        "```python\n",
        "x = 5\n",
        "print(f\"{x} Raised to the power of 2:\")\n",
        "```\n",
        "\n",
        "**Output:**\n",
        "\n",
        "```\n",
        "5 Raised to the power of 2:\n",
        "```\n",
        "\n",
        "---\n",
        "\n",
        "👉 In short:\n",
        "\n",
        "* `f\"...\"` lets you **mix variables with text** easily.\n",
        "* `{x}` is replaced with the value of `x` inside the string.\n",
        "\n",
        "---\n",
        "\n",
        "Would you like me to show you some **cool variations** of f-strings (like printing multiple variables, doing calculations inside `{ }`, etc.)?\n"
      ],
      "metadata": {
        "id": "daqeeZ4r92-W"
      }
    },
    {
      "cell_type": "code",
      "source": [
        "def wage(w_hour):\n",
        "  return w_hour*25\n",
        "def with_bonus(w_hour):\n",
        "  return wage(w_hour)+25\n",
        "print(wage(8),with_bonus(8))"
      ],
      "metadata": {
        "colab": {
          "base_uri": "https://localhost:8080/"
        },
        "id": "3PvEZOUa98kY",
        "outputId": "b3d322a2-3696-4f89-bb4a-c5954d67c8bf"
      },
      "execution_count": null,
      "outputs": [
        {
          "output_type": "stream",
          "name": "stdout",
          "text": [
            "200 225\n"
          ]
        }
      ]
    },
    {
      "cell_type": "code",
      "source": [
        "wage(8),with_bonus(8)"
      ],
      "metadata": {
        "colab": {
          "base_uri": "https://localhost:8080/"
        },
        "id": "2rDED5U5_Zc-",
        "outputId": "ca0f34a0-c1c5-4898-e139-1b112f83069d"
      },
      "execution_count": null,
      "outputs": [
        {
          "output_type": "execute_result",
          "data": {
            "text/plain": [
              "(200, 225)"
            ]
          },
          "metadata": {},
          "execution_count": 98
        }
      ]
    },
    {
      "cell_type": "code",
      "source": [
        "def plus_five(x):\n",
        "    return x+5\n",
        "def m_by_3(x):\n",
        "    return plus_five(x)*3\n",
        "m_by_3(5)"
      ],
      "metadata": {
        "colab": {
          "base_uri": "https://localhost:8080/"
        },
        "id": "l9qM3hbeA0TI",
        "outputId": "666e994e-9bce-4a2b-97b4-67c21dea29b5"
      },
      "execution_count": null,
      "outputs": [
        {
          "output_type": "execute_result",
          "data": {
            "text/plain": [
              "30"
            ]
          },
          "metadata": {},
          "execution_count": 99
        }
      ]
    },
    {
      "cell_type": "code",
      "source": [
        "def add_10(m):# where m is the amount of money jonny will save\n",
        "  if m>=100:\n",
        "    m=m+10  # if m>=100 then 10 dollar will be added\n",
        "    return m\n",
        "  else:\n",
        "    return \"save more\""
      ],
      "metadata": {
        "id": "dFUirPCnBRuv"
      },
      "execution_count": null,
      "outputs": []
    },
    {
      "cell_type": "code",
      "source": [
        "print(add_10(346))"
      ],
      "metadata": {
        "colab": {
          "base_uri": "https://localhost:8080/"
        },
        "id": "ouv5m_07BhBh",
        "outputId": "1ed8f80b-b903-4bc8-8dbe-e625d3b282a6"
      },
      "execution_count": null,
      "outputs": [
        {
          "output_type": "stream",
          "name": "stdout",
          "text": [
            "356\n"
          ]
        }
      ]
    },
    {
      "cell_type": "code",
      "source": [
        "add_10(6)"
      ],
      "metadata": {
        "colab": {
          "base_uri": "https://localhost:8080/",
          "height": 35
        },
        "id": "M41exVbYB6Ns",
        "outputId": "5ffc698a-d59b-4b55-c6f5-fdd9fa44dfc8"
      },
      "execution_count": null,
      "outputs": [
        {
          "output_type": "execute_result",
          "data": {
            "text/plain": [
              "'save more'"
            ],
            "application/vnd.google.colaboratory.intrinsic+json": {
              "type": "string"
            }
          },
          "metadata": {},
          "execution_count": 102
        }
      ]
    },
    {
      "cell_type": "code",
      "source": [
        "def compare_the_two(x,y):\n",
        "    if x > y:\n",
        "        print (\"Greater\")\n",
        "    elif x < y:\n",
        "        print (\"Less\")\n",
        "    else:\n",
        "        print (\"Equal\")\n"
      ],
      "metadata": {
        "id": "NfV61xkLCt8S"
      },
      "execution_count": null,
      "outputs": []
    },
    {
      "cell_type": "code",
      "source": [
        "compare_the_two(4,6)"
      ],
      "metadata": {
        "colab": {
          "base_uri": "https://localhost:8080/"
        },
        "id": "y425Bo0uCwqU",
        "outputId": "c7c72585-a9f4-44b1-ba71-5de989838284"
      },
      "execution_count": null,
      "outputs": [
        {
          "output_type": "stream",
          "name": "stdout",
          "text": [
            "Less\n"
          ]
        }
      ]
    },
    {
      "cell_type": "code",
      "source": [
        "def subtract_bc(a,b,c):\n",
        "  result=a-b*c\n",
        "  print(\"parameter a=\",a)\n",
        "  print(\"parameter b=\",b)\n",
        "  print(\"parameter c=\",c)\n",
        "  return result\n",
        "print(subtract_bc(4,2,1))\n",
        "\n",
        "\n"
      ],
      "metadata": {
        "colab": {
          "base_uri": "https://localhost:8080/"
        },
        "id": "2ekn5LVXDGWV",
        "outputId": "cd44feda-c016-4773-a482-7ee722793aac"
      },
      "execution_count": null,
      "outputs": [
        {
          "output_type": "stream",
          "name": "stdout",
          "text": [
            "parameter a= 4\n",
            "parameter b= 2\n",
            "parameter c= 1\n",
            "2\n"
          ]
        }
      ]
    },
    {
      "cell_type": "code",
      "source": [
        "subtract_bc(a=6,b=8,c=5)"
      ],
      "metadata": {
        "colab": {
          "base_uri": "https://localhost:8080/"
        },
        "id": "6e6uisa_ESXO",
        "outputId": "0b56bcc5-e1d2-4094-d7cb-3c220374f77f"
      },
      "execution_count": null,
      "outputs": [
        {
          "output_type": "stream",
          "name": "stdout",
          "text": [
            "parameter a= 6\n",
            "parameter b= 8\n",
            "parameter c= 5\n"
          ]
        },
        {
          "output_type": "execute_result",
          "data": {
            "text/plain": [
              "-34"
            ]
          },
          "metadata": {},
          "execution_count": 106
        }
      ]
    },
    {
      "cell_type": "markdown",
      "source": [
        "Built in functions in python"
      ],
      "metadata": {
        "id": "ICucM7O3Emlq"
      }
    },
    {
      "cell_type": "code",
      "source": [],
      "metadata": {
        "id": "qq5_jTFpEp0d"
      },
      "execution_count": null,
      "outputs": []
    },
    {
      "cell_type": "code",
      "source": [
        "type(56)"
      ],
      "metadata": {
        "colab": {
          "base_uri": "https://localhost:8080/"
        },
        "id": "DfOBCQCTE2R1",
        "outputId": "80015356-ca66-4854-d694-34cbd9a3b9bd"
      },
      "execution_count": null,
      "outputs": [
        {
          "output_type": "execute_result",
          "data": {
            "text/plain": [
              "int"
            ]
          },
          "metadata": {},
          "execution_count": 107
        }
      ]
    },
    {
      "cell_type": "code",
      "source": [
        "str(56)"
      ],
      "metadata": {
        "colab": {
          "base_uri": "https://localhost:8080/",
          "height": 35
        },
        "id": "2zGDgkutE55Z",
        "outputId": "f4c05c91-8efc-4de2-eaf4-a7376cc98e4d"
      },
      "execution_count": null,
      "outputs": [
        {
          "output_type": "execute_result",
          "data": {
            "text/plain": [
              "'56'"
            ],
            "application/vnd.google.colaboratory.intrinsic+json": {
              "type": "string"
            }
          },
          "metadata": {},
          "execution_count": 108
        }
      ]
    },
    {
      "cell_type": "code",
      "source": [
        "int(78.906)"
      ],
      "metadata": {
        "colab": {
          "base_uri": "https://localhost:8080/"
        },
        "id": "3oPRIDu0E7wS",
        "outputId": "360b6f1b-b1f6-4a44-d590-f6487a07eafe"
      },
      "execution_count": null,
      "outputs": [
        {
          "output_type": "execute_result",
          "data": {
            "text/plain": [
              "78"
            ]
          },
          "metadata": {},
          "execution_count": 109
        }
      ]
    },
    {
      "cell_type": "code",
      "source": [
        "float(6)"
      ],
      "metadata": {
        "colab": {
          "base_uri": "https://localhost:8080/"
        },
        "id": "fj1NfsldE940",
        "outputId": "47543567-2276-4321-f3a8-150f9afdb29d"
      },
      "execution_count": null,
      "outputs": [
        {
          "output_type": "execute_result",
          "data": {
            "text/plain": [
              "6.0"
            ]
          },
          "metadata": {},
          "execution_count": 110
        }
      ]
    },
    {
      "cell_type": "code",
      "source": [
        "max(10,20,30)"
      ],
      "metadata": {
        "colab": {
          "base_uri": "https://localhost:8080/"
        },
        "id": "WxEHReUSFJHn",
        "outputId": "d93f4ed8-6b8a-4c1d-fbea-9919fd0a003d"
      },
      "execution_count": null,
      "outputs": [
        {
          "output_type": "execute_result",
          "data": {
            "text/plain": [
              "30"
            ]
          },
          "metadata": {},
          "execution_count": 111
        }
      ]
    },
    {
      "cell_type": "code",
      "source": [
        "min(6,7.9,89)"
      ],
      "metadata": {
        "colab": {
          "base_uri": "https://localhost:8080/"
        },
        "id": "3NvdD8Y5FLUr",
        "outputId": "9ba739d4-9fe6-4aa0-bc19-2cc1ae2f0966"
      },
      "execution_count": null,
      "outputs": [
        {
          "output_type": "execute_result",
          "data": {
            "text/plain": [
              "6"
            ]
          },
          "metadata": {},
          "execution_count": 112
        }
      ]
    },
    {
      "cell_type": "code",
      "source": [
        "z=-9\n",
        "abs(z) # absolute function"
      ],
      "metadata": {
        "colab": {
          "base_uri": "https://localhost:8080/"
        },
        "id": "w33ozXx4FYVa",
        "outputId": "a1284269-24e4-4179-d2fb-13525019e593"
      },
      "execution_count": null,
      "outputs": [
        {
          "output_type": "execute_result",
          "data": {
            "text/plain": [
              "9"
            ]
          },
          "metadata": {},
          "execution_count": 113
        }
      ]
    },
    {
      "cell_type": "code",
      "source": [
        "list_1=[1,2,4]\n",
        "sum(list_1)"
      ],
      "metadata": {
        "colab": {
          "base_uri": "https://localhost:8080/"
        },
        "id": "VhJg-rslFevt",
        "outputId": "dd8827a1-5da8-47a0-bcce-f43411cd98e4"
      },
      "execution_count": null,
      "outputs": [
        {
          "output_type": "execute_result",
          "data": {
            "text/plain": [
              "7"
            ]
          },
          "metadata": {},
          "execution_count": 114
        }
      ]
    },
    {
      "cell_type": "code",
      "source": [
        "round(4.627726,5)# upto 5 decimal places"
      ],
      "metadata": {
        "colab": {
          "base_uri": "https://localhost:8080/"
        },
        "id": "RgnD7J-1FsMo",
        "outputId": "d45a8529-4f9b-4735-fd20-abcc2f1addc2"
      },
      "execution_count": null,
      "outputs": [
        {
          "output_type": "execute_result",
          "data": {
            "text/plain": [
              "4.62773"
            ]
          },
          "metadata": {},
          "execution_count": 115
        }
      ]
    },
    {
      "cell_type": "code",
      "source": [
        "round(3.6)"
      ],
      "metadata": {
        "colab": {
          "base_uri": "https://localhost:8080/"
        },
        "id": "1BZVqpZ4F11Q",
        "outputId": "9150b3bb-8de8-4352-eae8-8c00a2e681c8"
      },
      "execution_count": null,
      "outputs": [
        {
          "output_type": "execute_result",
          "data": {
            "text/plain": [
              "4"
            ]
          },
          "metadata": {},
          "execution_count": 116
        }
      ]
    },
    {
      "cell_type": "code",
      "source": [
        "round(3.5)"
      ],
      "metadata": {
        "colab": {
          "base_uri": "https://localhost:8080/"
        },
        "id": "Tlaw90iFGBIz",
        "outputId": "3c478248-2df1-44bb-b085-74a3ebff3d74"
      },
      "execution_count": null,
      "outputs": [
        {
          "output_type": "execute_result",
          "data": {
            "text/plain": [
              "4"
            ]
          },
          "metadata": {},
          "execution_count": 117
        }
      ]
    },
    {
      "cell_type": "code",
      "source": [
        "3**2"
      ],
      "metadata": {
        "colab": {
          "base_uri": "https://localhost:8080/"
        },
        "id": "bSxBPS93GInM",
        "outputId": "a455c951-23be-4c05-881f-6be86136f8a8"
      },
      "execution_count": null,
      "outputs": [
        {
          "output_type": "execute_result",
          "data": {
            "text/plain": [
              "9"
            ]
          },
          "metadata": {},
          "execution_count": 118
        }
      ]
    },
    {
      "cell_type": "code",
      "source": [
        "pow(3,2)"
      ],
      "metadata": {
        "colab": {
          "base_uri": "https://localhost:8080/"
        },
        "id": "s6M9VkkyGKZZ",
        "outputId": "12f4be9a-ba74-482b-f9b9-e9192b548e90"
      },
      "execution_count": null,
      "outputs": [
        {
          "output_type": "execute_result",
          "data": {
            "text/plain": [
              "9"
            ]
          },
          "metadata": {},
          "execution_count": 119
        }
      ]
    },
    {
      "cell_type": "code",
      "source": [
        "len(\"aman\")# len() function tells how many characters are there in a words"
      ],
      "metadata": {
        "colab": {
          "base_uri": "https://localhost:8080/"
        },
        "id": "66jyikQxGSdc",
        "outputId": "5a08fd7d-e831-45e8-dd9c-1cc0b99d3dd0"
      },
      "execution_count": null,
      "outputs": [
        {
          "output_type": "execute_result",
          "data": {
            "text/plain": [
              "4"
            ]
          },
          "metadata": {},
          "execution_count": 120
        }
      ]
    },
    {
      "cell_type": "code",
      "source": [
        "max(15, 65, 890, 25)"
      ],
      "metadata": {
        "colab": {
          "base_uri": "https://localhost:8080/"
        },
        "id": "eOYTq3gkGl35",
        "outputId": "d097008b-a455-4ff8-b90c-1234fd136930"
      },
      "execution_count": null,
      "outputs": [
        {
          "output_type": "execute_result",
          "data": {
            "text/plain": [
              "890"
            ]
          },
          "metadata": {},
          "execution_count": 121
        }
      ]
    },
    {
      "cell_type": "code",
      "source": [
        "min(25, 65, 890, 15)"
      ],
      "metadata": {
        "colab": {
          "base_uri": "https://localhost:8080/"
        },
        "id": "puXcXAhKGyFV",
        "outputId": "b07dff7c-eec7-4c9e-fac7-45c8b1cf56b7"
      },
      "execution_count": null,
      "outputs": [
        {
          "output_type": "execute_result",
          "data": {
            "text/plain": [
              "15"
            ]
          },
          "metadata": {},
          "execution_count": 122
        }
      ]
    },
    {
      "cell_type": "code",
      "source": [
        "abs(-100)"
      ],
      "metadata": {
        "colab": {
          "base_uri": "https://localhost:8080/"
        },
        "id": "bVS5iJALG6fq",
        "outputId": "6d641af3-2737-4877-f47c-1803913f5774"
      },
      "execution_count": null,
      "outputs": [
        {
          "output_type": "execute_result",
          "data": {
            "text/plain": [
              "100"
            ]
          },
          "metadata": {},
          "execution_count": 123
        }
      ]
    },
    {
      "cell_type": "code",
      "source": [
        "round(55.5)"
      ],
      "metadata": {
        "colab": {
          "base_uri": "https://localhost:8080/"
        },
        "id": "IgOQZvh5HDMc",
        "outputId": "5e25ac1a-ae8d-4e9b-ba04-5054625df201"
      },
      "execution_count": null,
      "outputs": [
        {
          "output_type": "execute_result",
          "data": {
            "text/plain": [
              "56"
            ]
          },
          "metadata": {},
          "execution_count": 124
        }
      ]
    },
    {
      "cell_type": "code",
      "source": [
        "round(35.56789, 3)"
      ],
      "metadata": {
        "colab": {
          "base_uri": "https://localhost:8080/"
        },
        "id": "-YJmPkLvHNiL",
        "outputId": "2b70faa6-2078-4cd5-ba55-76aaa2df9691"
      },
      "execution_count": null,
      "outputs": [
        {
          "output_type": "execute_result",
          "data": {
            "text/plain": [
              "35.568"
            ]
          },
          "metadata": {},
          "execution_count": 125
        }
      ]
    },
    {
      "cell_type": "code",
      "source": [
        "Numbers = [1, 5, 64, 24.5]\n",
        "\n",
        "sum(Numbers)\n"
      ],
      "metadata": {
        "colab": {
          "base_uri": "https://localhost:8080/"
        },
        "id": "ghJhEIjeHW7N",
        "outputId": "91025002-a73f-43b7-bdb1-04956540ac41"
      },
      "execution_count": null,
      "outputs": [
        {
          "output_type": "execute_result",
          "data": {
            "text/plain": [
              "94.5"
            ]
          },
          "metadata": {},
          "execution_count": 126
        }
      ]
    },
    {
      "cell_type": "code",
      "source": [
        "pow(10,3)"
      ],
      "metadata": {
        "colab": {
          "base_uri": "https://localhost:8080/"
        },
        "id": "r_HdIniEHiv8",
        "outputId": "e51c6771-c858-46bb-e44f-08f614e03725"
      },
      "execution_count": null,
      "outputs": [
        {
          "output_type": "execute_result",
          "data": {
            "text/plain": [
              "1000"
            ]
          },
          "metadata": {},
          "execution_count": 127
        }
      ]
    },
    {
      "cell_type": "code",
      "source": [
        "len(\"Elephant\")\n",
        "\n"
      ],
      "metadata": {
        "colab": {
          "base_uri": "https://localhost:8080/"
        },
        "id": "jHpp4M0vHsL_",
        "outputId": "3b222c32-205e-4c0e-acbe-5c10e30d365a"
      },
      "execution_count": null,
      "outputs": [
        {
          "output_type": "execute_result",
          "data": {
            "text/plain": [
              "8"
            ]
          },
          "metadata": {},
          "execution_count": 128
        }
      ]
    },
    {
      "cell_type": "code",
      "source": [
        "def distance_from_zero(x):\n",
        "    if type(x) == int:\n",
        "        print(abs(x))\n",
        "    else:\n",
        "        print (\"Not possible\")\n",
        "\n",
        "distance_from_zero(-10)\n",
        "distance_from_zero(\"cat\")\n"
      ],
      "metadata": {
        "colab": {
          "base_uri": "https://localhost:8080/"
        },
        "id": "X_iuHAlsIwev",
        "outputId": "074daeb9-e1bc-4c22-a7f5-b325c0fff8fd"
      },
      "execution_count": null,
      "outputs": [
        {
          "output_type": "stream",
          "name": "stdout",
          "text": [
            "10\n",
            "Not possible\n"
          ]
        }
      ]
    },
    {
      "cell_type": "code",
      "source": [
        "def distance_from_zero(x):\n",
        "    if type(x) == int:\n",
        "        return abs(x)\n",
        "    else:\n",
        "        print (\"Not possible\")\n",
        "\n",
        "distance_from_zero(-10)\n",
        "distance_from_zero(\"cat\")\n"
      ],
      "metadata": {
        "colab": {
          "base_uri": "https://localhost:8080/"
        },
        "id": "K12Fhc7rJSYR",
        "outputId": "a0701fdf-a17c-4929-d4a2-ef1db628daa2"
      },
      "execution_count": null,
      "outputs": [
        {
          "output_type": "stream",
          "name": "stdout",
          "text": [
            "Not possible\n"
          ]
        }
      ]
    }
  ]
}