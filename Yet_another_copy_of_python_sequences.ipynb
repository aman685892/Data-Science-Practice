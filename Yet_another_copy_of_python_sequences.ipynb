{
  "nbformat": 4,
  "nbformat_minor": 0,
  "metadata": {
    "colab": {
      "provenance": []
    },
    "kernelspec": {
      "name": "python3",
      "display_name": "Python 3"
    },
    "language_info": {
      "name": "python"
    }
  },
  "cells": [
    {
      "cell_type": "code",
      "execution_count": null,
      "metadata": {
        "colab": {
          "base_uri": "https://localhost:8080/",
          "height": 35
        },
        "id": "S6NJ8TVUJ1ig",
        "outputId": "9d4a6049-ac63-4f38-df1b-4409cbd5405a"
      },
      "outputs": [
        {
          "output_type": "execute_result",
          "data": {
            "text/plain": [
              "'aman'"
            ],
            "application/vnd.google.colaboratory.intrinsic+json": {
              "type": "string"
            }
          },
          "metadata": {},
          "execution_count": 15
        }
      ],
      "source": [
        "participants=[\"aman\",\"prasahant\",\"sidhant\",\"mona\"]\n",
        "participants[0]"
      ]
    },
    {
      "cell_type": "code",
      "source": [
        "participants[3]"
      ],
      "metadata": {
        "colab": {
          "base_uri": "https://localhost:8080/",
          "height": 35
        },
        "id": "cwzSN6hzKwCb",
        "outputId": "f7157668-2e38-4fbf-84d2-4d72d28e1f45"
      },
      "execution_count": null,
      "outputs": [
        {
          "output_type": "execute_result",
          "data": {
            "text/plain": [
              "'mona'"
            ],
            "application/vnd.google.colaboratory.intrinsic+json": {
              "type": "string"
            }
          },
          "metadata": {},
          "execution_count": 16
        }
      ]
    },
    {
      "cell_type": "code",
      "source": [
        "participants[-1]"
      ],
      "metadata": {
        "colab": {
          "base_uri": "https://localhost:8080/",
          "height": 35
        },
        "id": "m6PClmFqLhY2",
        "outputId": "7ee8f5f2-f0bf-4ff9-9510-e22b005152ec"
      },
      "execution_count": null,
      "outputs": [
        {
          "output_type": "execute_result",
          "data": {
            "text/plain": [
              "'mona'"
            ],
            "application/vnd.google.colaboratory.intrinsic+json": {
              "type": "string"
            }
          },
          "metadata": {},
          "execution_count": 17
        }
      ]
    },
    {
      "cell_type": "code",
      "source": [
        "participants[0]=\"pantu\"\n",
        "participants"
      ],
      "metadata": {
        "colab": {
          "base_uri": "https://localhost:8080/"
        },
        "id": "sLX8YiiLLmDm",
        "outputId": "46c3b636-ec7d-43ea-d8aa-760fa2581988"
      },
      "execution_count": null,
      "outputs": [
        {
          "output_type": "execute_result",
          "data": {
            "text/plain": [
              "['pantu', 'prasahant', 'sidhant', 'mona']"
            ]
          },
          "metadata": {},
          "execution_count": 18
        }
      ]
    },
    {
      "cell_type": "code",
      "source": [
        "del participants[0]\n",
        "participants"
      ],
      "metadata": {
        "colab": {
          "base_uri": "https://localhost:8080/"
        },
        "id": "Hvf3Ac2BMPVX",
        "outputId": "99fb01e3-d0b0-4e30-9d5c-fce00faf465a"
      },
      "execution_count": null,
      "outputs": [
        {
          "output_type": "execute_result",
          "data": {
            "text/plain": [
              "['prasahant', 'sidhant', 'mona']"
            ]
          },
          "metadata": {},
          "execution_count": 19
        }
      ]
    },
    {
      "cell_type": "code",
      "source": [
        "participants[2]"
      ],
      "metadata": {
        "colab": {
          "base_uri": "https://localhost:8080/",
          "height": 35
        },
        "id": "IVtGb0bZMjtP",
        "outputId": "6785dcfd-0960-4f83-d66b-713bdc74402b"
      },
      "execution_count": null,
      "outputs": [
        {
          "output_type": "execute_result",
          "data": {
            "text/plain": [
              "'mona'"
            ],
            "application/vnd.google.colaboratory.intrinsic+json": {
              "type": "string"
            }
          },
          "metadata": {},
          "execution_count": 20
        }
      ]
    },
    {
      "cell_type": "code",
      "source": [
        "Numbers = [10, 25, 40, 50]\n",
        "Numbers[2]\n"
      ],
      "metadata": {
        "colab": {
          "base_uri": "https://localhost:8080/"
        },
        "id": "BS8VR7JeMo4T",
        "outputId": "306c00ec-6d52-4408-cf1b-cfefa8d533d1"
      },
      "execution_count": null,
      "outputs": [
        {
          "output_type": "execute_result",
          "data": {
            "text/plain": [
              "40"
            ]
          },
          "metadata": {},
          "execution_count": 21
        }
      ]
    },
    {
      "cell_type": "code",
      "source": [
        "Numbers = [10, 25, 40, 50]\n",
        "Numbers[0]"
      ],
      "metadata": {
        "colab": {
          "base_uri": "https://localhost:8080/"
        },
        "id": "LJZ7EcR0N5DO",
        "outputId": "772e2ffd-b98c-4022-c669-2570b0216f3d"
      },
      "execution_count": null,
      "outputs": [
        {
          "output_type": "execute_result",
          "data": {
            "text/plain": [
              "10"
            ]
          },
          "metadata": {},
          "execution_count": 22
        }
      ]
    },
    {
      "cell_type": "code",
      "source": [
        "Numbers = [10, 25, 40, 50]\n",
        "Numbers[-3]"
      ],
      "metadata": {
        "colab": {
          "base_uri": "https://localhost:8080/"
        },
        "id": "CHLG82D-OafA",
        "outputId": "f423ce51-ca39-4706-9907-4a9c4ac6e3bd"
      },
      "execution_count": null,
      "outputs": [
        {
          "output_type": "execute_result",
          "data": {
            "text/plain": [
              "25"
            ]
          },
          "metadata": {},
          "execution_count": 23
        }
      ]
    },
    {
      "cell_type": "code",
      "source": [
        "Numbers = [10, 25, 40, 50]\n",
        "Numbers[-3]\n",
        "Numbers[-2]\n",
        "Numbers[-1]\n"
      ],
      "metadata": {
        "colab": {
          "base_uri": "https://localhost:8080/"
        },
        "id": "S_Id4VtROc6c",
        "outputId": "5f58fc78-e71b-452f-f8f8-6d41e3161724"
      },
      "execution_count": null,
      "outputs": [
        {
          "output_type": "execute_result",
          "data": {
            "text/plain": [
              "50"
            ]
          },
          "metadata": {},
          "execution_count": 24
        }
      ]
    },
    {
      "cell_type": "code",
      "source": [
        "Numbers = [10, 25, 40, 50]\n",
        "Numbers[0]=15\n",
        "Numbers"
      ],
      "metadata": {
        "colab": {
          "base_uri": "https://localhost:8080/"
        },
        "id": "rQKrvoEeOwUO",
        "outputId": "9aa6760a-3f5d-4562-9fd8-41eb3b5c723b"
      },
      "execution_count": null,
      "outputs": [
        {
          "output_type": "execute_result",
          "data": {
            "text/plain": [
              "[15, 25, 40, 50]"
            ]
          },
          "metadata": {},
          "execution_count": 25
        }
      ]
    },
    {
      "cell_type": "code",
      "source": [
        "Numbers = [10, 25, 40, 50]\n",
        "del Numbers[1]\n",
        "Numbers\n"
      ],
      "metadata": {
        "colab": {
          "base_uri": "https://localhost:8080/"
        },
        "id": "XhydKKa7PF99",
        "outputId": "b5e2db1f-06ac-401c-875a-b26a18a30ca0"
      },
      "execution_count": null,
      "outputs": [
        {
          "output_type": "execute_result",
          "data": {
            "text/plain": [
              "[10, 40, 50]"
            ]
          },
          "metadata": {},
          "execution_count": 26
        }
      ]
    },
    {
      "cell_type": "code",
      "source": [
        "x=[\"aman\",\"prashant\",\"raju\",\"maria\"]\n",
        "x.append(\"rahul\")\n",
        "x"
      ],
      "metadata": {
        "colab": {
          "base_uri": "https://localhost:8080/"
        },
        "id": "Igl8aILVPgjo",
        "outputId": "77ee9a56-a061-47a7-a8f8-1a46a5e131da"
      },
      "execution_count": null,
      "outputs": [
        {
          "output_type": "execute_result",
          "data": {
            "text/plain": [
              "['aman', 'prashant', 'raju', 'maria', 'rahul']"
            ]
          },
          "metadata": {},
          "execution_count": 27
        }
      ]
    },
    {
      "cell_type": "code",
      "source": [
        "x.extend([\"sidhant\",\"pantu\"])\n",
        "x"
      ],
      "metadata": {
        "colab": {
          "base_uri": "https://localhost:8080/"
        },
        "id": "6T8WFedPPulJ",
        "outputId": "ab1746ce-1b4c-42c2-faeb-980bea7d02c9"
      },
      "execution_count": null,
      "outputs": [
        {
          "output_type": "execute_result",
          "data": {
            "text/plain": [
              "['aman', 'prashant', 'raju', 'maria', 'rahul', 'sidhant', 'pantu']"
            ]
          },
          "metadata": {},
          "execution_count": 28
        }
      ]
    },
    {
      "cell_type": "code",
      "source": [
        "print(\"The first participant is \" + x[1]+\".\")"
      ],
      "metadata": {
        "colab": {
          "base_uri": "https://localhost:8080/"
        },
        "id": "WlhR-qipSCUu",
        "outputId": "b27fb786-ebc4-407d-d565-c740b6becce4"
      },
      "execution_count": null,
      "outputs": [
        {
          "output_type": "stream",
          "name": "stdout",
          "text": [
            "The first participant is prashant.\n"
          ]
        }
      ]
    },
    {
      "cell_type": "code",
      "source": [
        "len(\"prashant\")"
      ],
      "metadata": {
        "colab": {
          "base_uri": "https://localhost:8080/"
        },
        "id": "JEoXvXX6Sbrj",
        "outputId": "523e74f5-d341-4996-b21f-d051dd2187d7"
      },
      "execution_count": null,
      "outputs": [
        {
          "output_type": "execute_result",
          "data": {
            "text/plain": [
              "8"
            ]
          },
          "metadata": {},
          "execution_count": 30
        }
      ]
    },
    {
      "cell_type": "code",
      "source": [
        "len(x) # len() returns the number of elemenst in a list"
      ],
      "metadata": {
        "colab": {
          "base_uri": "https://localhost:8080/"
        },
        "id": "wXjh4MFmSfDx",
        "outputId": "6f73e1ef-0d2e-4d65-a202-39cb211e2712"
      },
      "execution_count": null,
      "outputs": [
        {
          "output_type": "execute_result",
          "data": {
            "text/plain": [
              "7"
            ]
          },
          "metadata": {},
          "execution_count": 31
        }
      ]
    },
    {
      "cell_type": "code",
      "source": [
        "Numbers = [15, 40, 50]\n",
        "\n",
        "Numbers.append(100)\n",
        "Numbers\n"
      ],
      "metadata": {
        "colab": {
          "base_uri": "https://localhost:8080/"
        },
        "id": "15HuXmhRURPA",
        "outputId": "e0b9461f-ad4c-4102-8925-729ba221c342"
      },
      "execution_count": null,
      "outputs": [
        {
          "output_type": "execute_result",
          "data": {
            "text/plain": [
              "[15, 40, 50, 100]"
            ]
          },
          "metadata": {},
          "execution_count": 32
        }
      ]
    },
    {
      "cell_type": "code",
      "source": [
        "Numbers = [15, 40, 50, 100]\n",
        "\n",
        "Numbers.extend([115, 140])\n",
        "Numbers\n"
      ],
      "metadata": {
        "colab": {
          "base_uri": "https://localhost:8080/"
        },
        "id": "3pVEel8VUhTR",
        "outputId": "d11a1373-e1cd-4d55-9535-1c1a0c26aee6"
      },
      "execution_count": null,
      "outputs": [
        {
          "output_type": "execute_result",
          "data": {
            "text/plain": [
              "[15, 40, 50, 100, 115, 140]"
            ]
          },
          "metadata": {},
          "execution_count": 33
        }
      ]
    },
    {
      "cell_type": "code",
      "source": [
        "Numbers = [15, 40, 50, 100, 115, 140]\n",
        "print (\"The fourth element of the Numbers list is\" ,Numbers[3])"
      ],
      "metadata": {
        "colab": {
          "base_uri": "https://localhost:8080/"
        },
        "id": "iVgLjtC-VDHD",
        "outputId": "51ba148f-8027-4b82-b5db-3f48c443fe0b"
      },
      "execution_count": null,
      "outputs": [
        {
          "output_type": "stream",
          "name": "stdout",
          "text": [
            "The fourth element of the Numbers list is 100\n"
          ]
        }
      ]
    },
    {
      "cell_type": "code",
      "source": [
        "Numbers = [15, 40, 50, 100, 115, 140]\n",
        "len(Numbers)\n"
      ],
      "metadata": {
        "colab": {
          "base_uri": "https://localhost:8080/"
        },
        "id": "2eC36GqTVMvV",
        "outputId": "0410892d-d8ab-4adc-bac1-88460fcab09f"
      },
      "execution_count": null,
      "outputs": [
        {
          "output_type": "execute_result",
          "data": {
            "text/plain": [
              "6"
            ]
          },
          "metadata": {},
          "execution_count": 35
        }
      ]
    },
    {
      "cell_type": "code",
      "source": [],
      "metadata": {
        "id": "lNXZPFXoWUMQ"
      },
      "execution_count": null,
      "outputs": []
    },
    {
      "cell_type": "markdown",
      "source": [
        "SLICING"
      ],
      "metadata": {
        "id": "r5dcH8hxWVUL"
      }
    },
    {
      "cell_type": "code",
      "source": [
        "Y=[\"AMAN\",\"RAHUL\",\"MARIA\",\"RAJU\"]\n",
        "Y"
      ],
      "metadata": {
        "colab": {
          "base_uri": "https://localhost:8080/"
        },
        "id": "Sn7OW42iWXfs",
        "outputId": "cb234fbe-d763-40fc-fb64-f4e549aba6a1"
      },
      "execution_count": null,
      "outputs": [
        {
          "output_type": "execute_result",
          "data": {
            "text/plain": [
              "['AMAN', 'RAHUL', 'MARIA', 'RAJU']"
            ]
          },
          "metadata": {},
          "execution_count": 36
        }
      ]
    },
    {
      "cell_type": "code",
      "source": [
        "Y[:2]"
      ],
      "metadata": {
        "colab": {
          "base_uri": "https://localhost:8080/"
        },
        "id": "NJ2GI2wIWwcQ",
        "outputId": "21e9dd32-c566-42b7-ba22-b6e948e41736"
      },
      "execution_count": null,
      "outputs": [
        {
          "output_type": "execute_result",
          "data": {
            "text/plain": [
              "['AMAN', 'RAHUL']"
            ]
          },
          "metadata": {},
          "execution_count": 37
        }
      ]
    },
    {
      "cell_type": "code",
      "source": [
        "Y[2:4]"
      ],
      "metadata": {
        "colab": {
          "base_uri": "https://localhost:8080/"
        },
        "id": "Dp0m3pXdW0SP",
        "outputId": "f09f96a5-ca82-4423-a5c8-24dc076cfc43"
      },
      "execution_count": null,
      "outputs": [
        {
          "output_type": "execute_result",
          "data": {
            "text/plain": [
              "['MARIA', 'RAJU']"
            ]
          },
          "metadata": {},
          "execution_count": 38
        }
      ]
    },
    {
      "cell_type": "code",
      "source": [
        "Y[2:]"
      ],
      "metadata": {
        "colab": {
          "base_uri": "https://localhost:8080/"
        },
        "id": "qqXLJZpWW4jj",
        "outputId": "df4d96d8-032d-4b6f-fa5d-af1599262853"
      },
      "execution_count": null,
      "outputs": [
        {
          "output_type": "execute_result",
          "data": {
            "text/plain": [
              "['MARIA', 'RAJU']"
            ]
          },
          "metadata": {},
          "execution_count": 39
        }
      ]
    },
    {
      "cell_type": "code",
      "source": [
        "Y[-2:]"
      ],
      "metadata": {
        "colab": {
          "base_uri": "https://localhost:8080/"
        },
        "id": "-fHOekovXZHf",
        "outputId": "ff5350bc-a2f8-4e9b-93bd-aa907ccc6b1e"
      },
      "execution_count": null,
      "outputs": [
        {
          "output_type": "execute_result",
          "data": {
            "text/plain": [
              "['MARIA', 'RAJU']"
            ]
          },
          "metadata": {},
          "execution_count": 40
        }
      ]
    },
    {
      "cell_type": "code",
      "source": [
        "STUDENT=[\"aman\",\"rahul\",\"sidhant\",\"prashant\",\"pawan\"]\n",
        "STUDENT.index(\"rahul\")"
      ],
      "metadata": {
        "colab": {
          "base_uri": "https://localhost:8080/"
        },
        "id": "51_UaerVXcNh",
        "outputId": "8112f535-0391-4670-dd1c-739e5bfd1634"
      },
      "execution_count": null,
      "outputs": [
        {
          "output_type": "execute_result",
          "data": {
            "text/plain": [
              "1"
            ]
          },
          "metadata": {},
          "execution_count": 41
        }
      ]
    },
    {
      "cell_type": "code",
      "source": [
        "STUDENT.index(\"pawan\")"
      ],
      "metadata": {
        "colab": {
          "base_uri": "https://localhost:8080/"
        },
        "id": "cBrl_zrxX7UH",
        "outputId": "20e40d02-e27b-492b-ae3f-b0069b4aed15"
      },
      "execution_count": null,
      "outputs": [
        {
          "output_type": "execute_result",
          "data": {
            "text/plain": [
              "4"
            ]
          },
          "metadata": {},
          "execution_count": 42
        }
      ]
    },
    {
      "cell_type": "code",
      "source": [
        "list_1=[1,2,3]\n",
        "list_2=[\"man\",\"aman\",\"rahul\"]\n",
        "bigger_list=[list_1,list_2]\n",
        "bigger_list"
      ],
      "metadata": {
        "colab": {
          "base_uri": "https://localhost:8080/"
        },
        "id": "D8elbf9LX_d7",
        "outputId": "81389f3f-8e22-4611-85c3-310be971ade8"
      },
      "execution_count": null,
      "outputs": [
        {
          "output_type": "execute_result",
          "data": {
            "text/plain": [
              "[[1, 2, 3], ['man', 'aman', 'rahul']]"
            ]
          },
          "metadata": {},
          "execution_count": 43
        }
      ]
    },
    {
      "cell_type": "code",
      "source": [
        "list_1.sort(reverse=True) # using reverse ( ) i can reverse\n",
        "list_1\n"
      ],
      "metadata": {
        "colab": {
          "base_uri": "https://localhost:8080/"
        },
        "id": "R5o7KZtJYTe8",
        "outputId": "5bc6cff0-24ad-4d9b-e6fb-03933136048a"
      },
      "execution_count": null,
      "outputs": [
        {
          "output_type": "execute_result",
          "data": {
            "text/plain": [
              "[3, 2, 1]"
            ]
          },
          "metadata": {},
          "execution_count": 44
        }
      ]
    },
    {
      "cell_type": "code",
      "source": [
        "Numbers = [15, 40, 50, 100, 115, 140]\n",
        "Numbers[3:5]\n"
      ],
      "metadata": {
        "colab": {
          "base_uri": "https://localhost:8080/"
        },
        "id": "GsD9SGErY-fS",
        "outputId": "50317844-3561-4fe8-9b19-582e512fffad"
      },
      "execution_count": null,
      "outputs": [
        {
          "output_type": "execute_result",
          "data": {
            "text/plain": [
              "[100, 115]"
            ]
          },
          "metadata": {},
          "execution_count": 45
        }
      ]
    },
    {
      "cell_type": "code",
      "source": [
        "Numbers[-3:-1]\n"
      ],
      "metadata": {
        "colab": {
          "base_uri": "https://localhost:8080/"
        },
        "id": "vzsKehLCZH4N",
        "outputId": "605686b6-e454-464f-f536-1f3dc7401732"
      },
      "execution_count": null,
      "outputs": [
        {
          "output_type": "execute_result",
          "data": {
            "text/plain": [
              "[100, 115]"
            ]
          },
          "metadata": {},
          "execution_count": 46
        }
      ]
    },
    {
      "cell_type": "code",
      "source": [
        "Numbers = [15, 40, 50, 100, 115, 140]\n",
        "Numbers[:4]"
      ],
      "metadata": {
        "colab": {
          "base_uri": "https://localhost:8080/"
        },
        "id": "65TlZiHyZbuK",
        "outputId": "3d959625-a19f-46cd-c661-fb782cea5b50"
      },
      "execution_count": null,
      "outputs": [
        {
          "output_type": "execute_result",
          "data": {
            "text/plain": [
              "[15, 40, 50, 100]"
            ]
          },
          "metadata": {},
          "execution_count": 47
        }
      ]
    },
    {
      "cell_type": "code",
      "source": [
        "Numbers = [15, 40, 50, 100, 115, 140]\n",
        "Numbers[2:]\n"
      ],
      "metadata": {
        "colab": {
          "base_uri": "https://localhost:8080/"
        },
        "id": "epTQKXAUZqKZ",
        "outputId": "9994c3b2-3693-4a21-92b7-fd180b15c68f"
      },
      "execution_count": null,
      "outputs": [
        {
          "output_type": "execute_result",
          "data": {
            "text/plain": [
              "[50, 100, 115, 140]"
            ]
          },
          "metadata": {},
          "execution_count": 48
        }
      ]
    },
    {
      "cell_type": "code",
      "source": [
        "Numbers = [15, 40, 50, 100, 115, 140]\n",
        "Numbers[-4:]\n"
      ],
      "metadata": {
        "colab": {
          "base_uri": "https://localhost:8080/"
        },
        "id": "VyBTqiPJZ4GQ",
        "outputId": "6e245ce7-2f7c-4437-e3e5-92694cb8afc6"
      },
      "execution_count": null,
      "outputs": [
        {
          "output_type": "execute_result",
          "data": {
            "text/plain": [
              "[50, 100, 115, 140]"
            ]
          },
          "metadata": {},
          "execution_count": 49
        }
      ]
    },
    {
      "cell_type": "code",
      "source": [
        "Numbers[2:]"
      ],
      "metadata": {
        "colab": {
          "base_uri": "https://localhost:8080/"
        },
        "id": "eTSeAQxRZ6cQ",
        "outputId": "b3f22cb1-cbb6-4f78-c09d-832a805a2270"
      },
      "execution_count": null,
      "outputs": [
        {
          "output_type": "execute_result",
          "data": {
            "text/plain": [
              "[50, 100, 115, 140]"
            ]
          },
          "metadata": {},
          "execution_count": 50
        }
      ]
    },
    {
      "cell_type": "code",
      "source": [
        "Numbers = [15, 40, 50, 100, 115, 140]\n",
        "Numbers.index(15)\n"
      ],
      "metadata": {
        "colab": {
          "base_uri": "https://localhost:8080/"
        },
        "id": "lv0T2C3XaKbi",
        "outputId": "19783fd4-9d47-4956-ed04-445d81b2ab16"
      },
      "execution_count": null,
      "outputs": [
        {
          "output_type": "execute_result",
          "data": {
            "text/plain": [
              "0"
            ]
          },
          "metadata": {},
          "execution_count": 51
        }
      ]
    },
    {
      "cell_type": "code",
      "source": [
        "Numbers = [15, 40, 50, 100, 115, 140]\n",
        "Two_Numbers=[1,2]\n",
        "All_Numbers=[Two_Numbers,Numbers]\n",
        "All_Numbers"
      ],
      "metadata": {
        "colab": {
          "base_uri": "https://localhost:8080/"
        },
        "id": "JGxPlttxawyq",
        "outputId": "84ff953d-507e-4c95-d3c6-6269ab64674b"
      },
      "execution_count": null,
      "outputs": [
        {
          "output_type": "execute_result",
          "data": {
            "text/plain": [
              "[[1, 2], [15, 40, 50, 100, 115, 140]]"
            ]
          },
          "metadata": {},
          "execution_count": 52
        }
      ]
    },
    {
      "cell_type": "code",
      "source": [
        "Numbers = [15, 40, 50, 100, 115, 140]\n",
        "Numbers.sort(reverse=True)\n",
        "Numbers"
      ],
      "metadata": {
        "colab": {
          "base_uri": "https://localhost:8080/"
        },
        "id": "St5PFORTbCC3",
        "outputId": "0b5988ff-d9f3-459e-d02d-b6582cd70e5e"
      },
      "execution_count": null,
      "outputs": [
        {
          "output_type": "execute_result",
          "data": {
            "text/plain": [
              "[140, 115, 100, 50, 40, 15]"
            ]
          },
          "metadata": {},
          "execution_count": 53
        }
      ]
    },
    {
      "cell_type": "markdown",
      "source": [
        "Tuples are type of data sequences that cant be changed , tuples are immutable"
      ],
      "metadata": {
        "id": "Uk_dGQRBbgNW"
      }
    },
    {
      "cell_type": "code",
      "source": [],
      "metadata": {
        "id": "q94PPVg3bpfE"
      },
      "execution_count": null,
      "outputs": []
    },
    {
      "cell_type": "code",
      "source": [
        "x=(1,2,3)\n",
        "x"
      ],
      "metadata": {
        "colab": {
          "base_uri": "https://localhost:8080/"
        },
        "id": "YN9EgKopb1sq",
        "outputId": "b2525628-6662-4b4a-b44c-2dd6307fc5eb"
      },
      "execution_count": null,
      "outputs": [
        {
          "output_type": "execute_result",
          "data": {
            "text/plain": [
              "(1, 2, 3)"
            ]
          },
          "metadata": {},
          "execution_count": 54
        }
      ]
    },
    {
      "cell_type": "code",
      "source": [
        "c=23 ,45,56\n",
        "c"
      ],
      "metadata": {
        "colab": {
          "base_uri": "https://localhost:8080/"
        },
        "id": "uzZB-7mab4yl",
        "outputId": "377698c7-ffaa-425e-d710-213785c82743"
      },
      "execution_count": null,
      "outputs": [
        {
          "output_type": "execute_result",
          "data": {
            "text/plain": [
              "(23, 45, 56)"
            ]
          },
          "metadata": {},
          "execution_count": 55
        }
      ]
    },
    {
      "cell_type": "code",
      "source": [
        "a,b,c=\"aman\",\"manvi\",\"taneja\"\n",
        "c"
      ],
      "metadata": {
        "colab": {
          "base_uri": "https://localhost:8080/",
          "height": 35
        },
        "id": "5eDnOXLwb93K",
        "outputId": "6af7c152-faf4-4cd3-d9c5-a08ef6e41f24"
      },
      "execution_count": null,
      "outputs": [
        {
          "output_type": "execute_result",
          "data": {
            "text/plain": [
              "'taneja'"
            ],
            "application/vnd.google.colaboratory.intrinsic+json": {
              "type": "string"
            }
          },
          "metadata": {},
          "execution_count": 56
        }
      ]
    },
    {
      "cell_type": "code",
      "source": [
        "c[0]"
      ],
      "metadata": {
        "colab": {
          "base_uri": "https://localhost:8080/",
          "height": 35
        },
        "id": "-qQ__BICcY-Y",
        "outputId": "8727dcde-77e6-449a-fcb0-1f148cb2851c"
      },
      "execution_count": null,
      "outputs": [
        {
          "output_type": "execute_result",
          "data": {
            "text/plain": [
              "'t'"
            ],
            "application/vnd.google.colaboratory.intrinsic+json": {
              "type": "string"
            }
          },
          "metadata": {},
          "execution_count": 57
        }
      ]
    },
    {
      "cell_type": "code",
      "source": [
        "x[1]"
      ],
      "metadata": {
        "colab": {
          "base_uri": "https://localhost:8080/"
        },
        "id": "x9Wil9YxceJX",
        "outputId": "fdc6b7df-633a-469b-8451-9040c8b95b3f"
      },
      "execution_count": null,
      "outputs": [
        {
          "output_type": "execute_result",
          "data": {
            "text/plain": [
              "2"
            ]
          },
          "metadata": {},
          "execution_count": 58
        }
      ]
    },
    {
      "cell_type": "code",
      "source": [
        "## list of tuples\n",
        "list=[x,c]\n",
        "list"
      ],
      "metadata": {
        "colab": {
          "base_uri": "https://localhost:8080/"
        },
        "id": "JkG7J-fQchwP",
        "outputId": "df790bea-81b9-4948-c49d-39bc0a6292ef"
      },
      "execution_count": null,
      "outputs": [
        {
          "output_type": "execute_result",
          "data": {
            "text/plain": [
              "[(1, 2, 3), 'taneja']"
            ]
          },
          "metadata": {},
          "execution_count": 59
        }
      ]
    },
    {
      "cell_type": "code",
      "source": [
        "p=(\"aman\",\"rahul\",\"panwar\")\n",
        "q=(\"album\",\"chaurasia\",\"pinwar\")\n",
        "list_1=[p,q]\n",
        "list_1  # lists of tuples"
      ],
      "metadata": {
        "colab": {
          "base_uri": "https://localhost:8080/"
        },
        "id": "jlOgOySGczmy",
        "outputId": "6a768f4b-0236-4a59-c568-7dde32b052b3"
      },
      "execution_count": null,
      "outputs": [
        {
          "output_type": "execute_result",
          "data": {
            "text/plain": [
              "[('aman', 'rahul', 'panwar'), ('album', 'chaurasia', 'pinwar')]"
            ]
          },
          "metadata": {},
          "execution_count": 60
        }
      ]
    },
    {
      "cell_type": "code",
      "source": [
        "(age,years_of_school)= \"21,23\".split(',')\n",
        "print(age)\n",
        "print(years_of_school)\n"
      ],
      "metadata": {
        "colab": {
          "base_uri": "https://localhost:8080/"
        },
        "id": "sH1RIwlZdhhP",
        "outputId": "78253785-8fe9-4136-fbde-5d5ed1487454"
      },
      "execution_count": null,
      "outputs": [
        {
          "output_type": "stream",
          "name": "stdout",
          "text": [
            "21\n",
            "23\n"
          ]
        }
      ]
    },
    {
      "cell_type": "code",
      "source": [
        "def squar_info(x):\n",
        "  Area=x**2\n",
        "  Perimeter=4*x\n",
        "  return Area, Perimeter\n",
        "squar_info(4) ## returns a tuple"
      ],
      "metadata": {
        "colab": {
          "base_uri": "https://localhost:8080/"
        },
        "id": "ULdNy_4qd8SS",
        "outputId": "24f40b8d-f025-4890-df60-0cda43dc6240"
      },
      "execution_count": null,
      "outputs": [
        {
          "output_type": "execute_result",
          "data": {
            "text/plain": [
              "(16, 16)"
            ]
          },
          "metadata": {},
          "execution_count": 62
        }
      ]
    },
    {
      "cell_type": "code",
      "source": [],
      "metadata": {
        "id": "dW0ePpwQdI--"
      },
      "execution_count": null,
      "outputs": []
    },
    {
      "cell_type": "code",
      "source": [
        "Cars=(\"BMW\",\"Dodge\",\"Ford\")\n",
        "Cars"
      ],
      "metadata": {
        "colab": {
          "base_uri": "https://localhost:8080/"
        },
        "id": "VHEbCgCcfw5q",
        "outputId": "d4c05771-3f67-4386-919f-504fec55af76"
      },
      "execution_count": null,
      "outputs": [
        {
          "output_type": "execute_result",
          "data": {
            "text/plain": [
              "('BMW', 'Dodge', 'Ford')"
            ]
          },
          "metadata": {},
          "execution_count": 63
        }
      ]
    },
    {
      "cell_type": "code",
      "source": [
        "Cars = (\"BMW\", \"Dodge\", \"Ford\")\n",
        "Cars[1]"
      ],
      "metadata": {
        "colab": {
          "base_uri": "https://localhost:8080/",
          "height": 35
        },
        "id": "S_Wn3ZNhf8iD",
        "outputId": "1c2c5c19-3f3f-48f2-8e74-57df57453a9e"
      },
      "execution_count": null,
      "outputs": [
        {
          "output_type": "execute_result",
          "data": {
            "text/plain": [
              "'Dodge'"
            ],
            "application/vnd.google.colaboratory.intrinsic+json": {
              "type": "string"
            }
          },
          "metadata": {},
          "execution_count": 64
        }
      ]
    },
    {
      "cell_type": "code",
      "source": [
        "name, age = 'Peter,24'.split(',')\n",
        "print (name)\n",
        "print (age)\n"
      ],
      "metadata": {
        "colab": {
          "base_uri": "https://localhost:8080/"
        },
        "id": "2iNYCtS-gNWI",
        "outputId": "7ef39de8-d16f-46c4-b5ab-283013202cd2"
      },
      "execution_count": null,
      "outputs": [
        {
          "output_type": "stream",
          "name": "stdout",
          "text": [
            "Peter\n",
            "24\n"
          ]
        }
      ]
    },
    {
      "cell_type": "code",
      "source": [
        "def rectangle_info(x,y):\n",
        "    A=x*y\n",
        "    p=2*(x+y)\n",
        "    return A,p\n",
        "rectangle_info(2,10)"
      ],
      "metadata": {
        "colab": {
          "base_uri": "https://localhost:8080/"
        },
        "id": "rQZIMCHPgya1",
        "outputId": "71fe0840-439b-4a66-d9e2-86bebeed9482"
      },
      "execution_count": null,
      "outputs": [
        {
          "output_type": "execute_result",
          "data": {
            "text/plain": [
              "(20, 24)"
            ]
          },
          "metadata": {},
          "execution_count": 66
        }
      ]
    },
    {
      "cell_type": "code",
      "source": [],
      "metadata": {
        "id": "ib2BSFMUg069"
      },
      "execution_count": null,
      "outputs": []
    },
    {
      "cell_type": "markdown",
      "source": [
        "DICTIONARY"
      ],
      "metadata": {
        "id": "zVO6hG29QeCm"
      }
    },
    {
      "cell_type": "code",
      "source": [
        "dict={'k1':\"aman\",'k2':\"raj\",'k3':\"rahul\",'k4':\"pawan\"}\n",
        "dict"
      ],
      "metadata": {
        "colab": {
          "base_uri": "https://localhost:8080/"
        },
        "id": "CEJwAKN5Qflc",
        "outputId": "8a15fb4a-814d-4fc4-9743-b2a7614b703d"
      },
      "execution_count": null,
      "outputs": [
        {
          "output_type": "execute_result",
          "data": {
            "text/plain": [
              "{'k1': 'aman', 'k2': 'raj', 'k3': 'rahul', 'k4': 'pawan'}"
            ]
          },
          "metadata": {},
          "execution_count": 67
        }
      ]
    },
    {
      "cell_type": "code",
      "source": [
        "dict['k4']"
      ],
      "metadata": {
        "colab": {
          "base_uri": "https://localhost:8080/",
          "height": 35
        },
        "id": "sFJ1iImCQ01t",
        "outputId": "68187f77-14e0-47dd-dfdc-2afda886ab1e"
      },
      "execution_count": null,
      "outputs": [
        {
          "output_type": "execute_result",
          "data": {
            "text/plain": [
              "'pawan'"
            ],
            "application/vnd.google.colaboratory.intrinsic+json": {
              "type": "string"
            }
          },
          "metadata": {},
          "execution_count": 68
        }
      ]
    },
    {
      "cell_type": "code",
      "source": [
        "dict['k1']"
      ],
      "metadata": {
        "colab": {
          "base_uri": "https://localhost:8080/",
          "height": 35
        },
        "id": "7CVFPOTtQ_D4",
        "outputId": "54034ee2-1125-4d1a-86c7-b1904d7fc161"
      },
      "execution_count": null,
      "outputs": [
        {
          "output_type": "execute_result",
          "data": {
            "text/plain": [
              "'aman'"
            ],
            "application/vnd.google.colaboratory.intrinsic+json": {
              "type": "string"
            }
          },
          "metadata": {},
          "execution_count": 69
        }
      ]
    },
    {
      "cell_type": "code",
      "source": [
        "dict['k5']=\"rajkumar\"\n",
        "dict"
      ],
      "metadata": {
        "colab": {
          "base_uri": "https://localhost:8080/"
        },
        "id": "CUI6B56ARJch",
        "outputId": "502fa6ec-46cc-4dfa-9c2e-6ac3f2205be4"
      },
      "execution_count": null,
      "outputs": [
        {
          "output_type": "execute_result",
          "data": {
            "text/plain": [
              "{'k1': 'aman', 'k2': 'raj', 'k3': 'rahul', 'k4': 'pawan', 'k5': 'rajkumar'}"
            ]
          },
          "metadata": {},
          "execution_count": 70
        }
      ]
    },
    {
      "cell_type": "code",
      "source": [
        "dict['k2']=\"sidhant\"\n",
        "dict"
      ],
      "metadata": {
        "colab": {
          "base_uri": "https://localhost:8080/"
        },
        "id": "BjvcI9rwRP0Y",
        "outputId": "488ae363-a9b3-4a52-aab7-10eac701859a"
      },
      "execution_count": null,
      "outputs": [
        {
          "output_type": "execute_result",
          "data": {
            "text/plain": [
              "{'k1': 'aman', 'k2': 'sidhant', 'k3': 'rahul', 'k4': 'pawan', 'k5': 'rajkumar'}"
            ]
          },
          "metadata": {},
          "execution_count": 71
        }
      ]
    },
    {
      "cell_type": "code",
      "source": [
        "department={'dep1':\"aman\",'dep2':[\"raju\",\"rohan\",\"mohan\"]}\n",
        "department"
      ],
      "metadata": {
        "colab": {
          "base_uri": "https://localhost:8080/"
        },
        "id": "PfY6eGJyRXVB",
        "outputId": "f6c0055a-c69f-4726-8a3d-86c880431da4"
      },
      "execution_count": null,
      "outputs": [
        {
          "output_type": "execute_result",
          "data": {
            "text/plain": [
              "{'dep1': 'aman', 'dep2': ['raju', 'rohan', 'mohan']}"
            ]
          },
          "metadata": {},
          "execution_count": 72
        }
      ]
    },
    {
      "cell_type": "code",
      "source": [
        "department['dep2']"
      ],
      "metadata": {
        "colab": {
          "base_uri": "https://localhost:8080/"
        },
        "id": "OzRUa_gcR1pA",
        "outputId": "4529c89a-ef51-4630-8575-4235b0d6db2a"
      },
      "execution_count": null,
      "outputs": [
        {
          "output_type": "execute_result",
          "data": {
            "text/plain": [
              "['raju', 'rohan', 'mohan']"
            ]
          },
          "metadata": {},
          "execution_count": 73
        }
      ]
    },
    {
      "cell_type": "code",
      "source": [
        "cricketers={}\n",
        "cricketers['a']=\"aman\"\n",
        "cricketers['b']=\"rahul\"\n",
        "cricketers['c']=\"raj\"\n",
        "cricketers['d']=\"rocky\"\n",
        "cricketers['e']=\"pawan\"\n",
        "print(cricketers)"
      ],
      "metadata": {
        "colab": {
          "base_uri": "https://localhost:8080/"
        },
        "id": "K4D4gXCeR8o5",
        "outputId": "410d4cc3-b350-4285-968f-cf66c2e4261c"
      },
      "execution_count": null,
      "outputs": [
        {
          "output_type": "stream",
          "name": "stdout",
          "text": [
            "{'a': 'aman', 'b': 'rahul', 'c': 'raj', 'd': 'rocky', 'e': 'pawan'}\n"
          ]
        }
      ]
    },
    {
      "cell_type": "code",
      "source": [
        "print(cricketers.get('a'))"
      ],
      "metadata": {
        "colab": {
          "base_uri": "https://localhost:8080/"
        },
        "id": "Wcux1pXGSfez",
        "outputId": "bcbae077-e830-4e09-ae57-a2d9dd8a581e"
      },
      "execution_count": null,
      "outputs": [
        {
          "output_type": "stream",
          "name": "stdout",
          "text": [
            "aman\n"
          ]
        }
      ]
    },
    {
      "cell_type": "code",
      "source": [
        "print(cricketers.get('c'))"
      ],
      "metadata": {
        "colab": {
          "base_uri": "https://localhost:8080/"
        },
        "id": "rFBLyGAmSxMF",
        "outputId": "ad5df1e0-46fb-4b6b-8809-cbcc666bd403"
      },
      "execution_count": null,
      "outputs": [
        {
          "output_type": "stream",
          "name": "stdout",
          "text": [
            "raj\n"
          ]
        }
      ]
    },
    {
      "cell_type": "code",
      "source": [
        "print(cricketers.get('m'))"
      ],
      "metadata": {
        "colab": {
          "base_uri": "https://localhost:8080/"
        },
        "id": "kPFE_0yGS11v",
        "outputId": "1eaacbbb-8cef-4f55-ecc0-95d6f9f7c059"
      },
      "execution_count": null,
      "outputs": [
        {
          "output_type": "stream",
          "name": "stdout",
          "text": [
            "None\n"
          ]
        }
      ]
    },
    {
      "cell_type": "code",
      "source": [
        "Menu = {'meal_1':'Spaghetti', 'meal_2':'Fries', 'meal_3':'Hamburger', 'meal_4':'Lasagna'}\n",
        "Menu['meal_2']"
      ],
      "metadata": {
        "colab": {
          "base_uri": "https://localhost:8080/",
          "height": 35
        },
        "id": "nrZMRud0TlPL",
        "outputId": "588e0b24-016c-4fa0-81ab-372535bbdb64"
      },
      "execution_count": null,
      "outputs": [
        {
          "output_type": "execute_result",
          "data": {
            "text/plain": [
              "'Fries'"
            ],
            "application/vnd.google.colaboratory.intrinsic+json": {
              "type": "string"
            }
          },
          "metadata": {},
          "execution_count": 78
        }
      ]
    },
    {
      "cell_type": "code",
      "source": [
        "Menu = {'meal_1':'Spaghetti', 'meal_2':'Fries', 'meal_3':'Hamburger', 'meal_4':'Lasagna'}\n",
        "Menu['meal_5']=\"Soup\"\n",
        "Menu"
      ],
      "metadata": {
        "colab": {
          "base_uri": "https://localhost:8080/"
        },
        "id": "8E_KWsCaUIC_",
        "outputId": "fbc4e17b-c3f7-4c13-f5ca-5315a1d378ed"
      },
      "execution_count": null,
      "outputs": [
        {
          "output_type": "execute_result",
          "data": {
            "text/plain": [
              "{'meal_1': 'Spaghetti',\n",
              " 'meal_2': 'Fries',\n",
              " 'meal_3': 'Hamburger',\n",
              " 'meal_4': 'Lasagna',\n",
              " 'meal_5': 'Soup'}"
            ]
          },
          "metadata": {},
          "execution_count": 79
        }
      ]
    },
    {
      "cell_type": "code",
      "source": [
        "Menu = {'meal_1':'Spaghetti', 'meal_2':'Fries', 'meal_3':'Hamburger', 'meal_4':'Lasagna'}\n",
        "Menu['meal_3']=\"Cheeseburger\"\n",
        "Menu"
      ],
      "metadata": {
        "colab": {
          "base_uri": "https://localhost:8080/"
        },
        "id": "u3KNRy-iULPI",
        "outputId": "4bf80c2b-0a0e-4f54-b6af-d9e89917843c"
      },
      "execution_count": null,
      "outputs": [
        {
          "output_type": "execute_result",
          "data": {
            "text/plain": [
              "{'meal_1': 'Spaghetti',\n",
              " 'meal_2': 'Fries',\n",
              " 'meal_3': 'Cheeseburger',\n",
              " 'meal_4': 'Lasagna'}"
            ]
          },
          "metadata": {},
          "execution_count": 80
        }
      ]
    },
    {
      "cell_type": "code",
      "source": [
        "Menu = {'meal_1':'Spaghetti', 'meal_2':'Fries', 'meal_3':'Cheeseburger', 'meal_4':'Lasagna'}\n",
        "Dessert = ['Pancakes', 'Ice-cream', 'Tiramisu']\n",
        "Menu['meal_6'] = Dessert\n",
        "Menu"
      ],
      "metadata": {
        "colab": {
          "base_uri": "https://localhost:8080/"
        },
        "id": "rmv76rMFVTc4",
        "outputId": "1cdb0178-29f3-4237-a384-13c4607c39a9"
      },
      "execution_count": null,
      "outputs": [
        {
          "output_type": "execute_result",
          "data": {
            "text/plain": [
              "{'meal_1': 'Spaghetti',\n",
              " 'meal_2': 'Fries',\n",
              " 'meal_3': 'Cheeseburger',\n",
              " 'meal_4': 'Lasagna',\n",
              " 'meal_6': ['Pancakes', 'Ice-cream', 'Tiramisu']}"
            ]
          },
          "metadata": {},
          "execution_count": 82
        }
      ]
    },
    {
      "cell_type": "code",
      "source": [
        "Menu = {'meal_1':'Spaghetti', 'meal_2':'Fries', 'meal_3':'Cheeseburger', 'meal_4':'Lasagna', 'meal_5':'Soup'}\n",
        "Price_list = {}\n",
        "Price_list['Spaghetti']=10\n",
        "Price_list['Fries']=5\n",
        "Price_list['Cheeseburger']=8\n",
        "Price_list['Lasagna']=12\n",
        "Price_list['Soup']=5\n",
        "Price_list"
      ],
      "metadata": {
        "colab": {
          "base_uri": "https://localhost:8080/"
        },
        "id": "mheJD3wSWfX7",
        "outputId": "3405d549-5d66-4ea9-8735-64f1af6eb08b"
      },
      "execution_count": null,
      "outputs": [
        {
          "output_type": "execute_result",
          "data": {
            "text/plain": [
              "{'Spaghetti': 10, 'Fries': 5, 'Cheeseburger': 8, 'Lasagna': 12, 'Soup': 5}"
            ]
          },
          "metadata": {},
          "execution_count": 83
        }
      ]
    },
    {
      "cell_type": "code",
      "source": [
        "Price_list = {'Cheeseburger': 8, 'Fries': 5, 'Lasagna': 12, 'Soup': 5, 'Spaghetti': 10}\n",
        "print(Price_list.get('Spaghetti'))"
      ],
      "metadata": {
        "colab": {
          "base_uri": "https://localhost:8080/"
        },
        "id": "L8Rq1mpaWylO",
        "outputId": "611fa56d-5da0-4271-b62e-c0461a7554ea"
      },
      "execution_count": null,
      "outputs": [
        {
          "output_type": "stream",
          "name": "stdout",
          "text": [
            "10\n"
          ]
        }
      ]
    }
  ]
}