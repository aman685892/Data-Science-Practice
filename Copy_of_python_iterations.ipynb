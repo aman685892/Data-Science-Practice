{
  "nbformat": 4,
  "nbformat_minor": 0,
  "metadata": {
    "colab": {
      "provenance": [],
      "authorship_tag": "ABX9TyPaUOC6UdmcfRzfeNdTAMxL",
      "include_colab_link": true
    },
    "kernelspec": {
      "name": "python3",
      "display_name": "Python 3"
    },
    "language_info": {
      "name": "python"
    }
  },
  "cells": [
    {
      "cell_type": "markdown",
      "metadata": {
        "id": "view-in-github",
        "colab_type": "text"
      },
      "source": [
        "<a href=\"https://colab.research.google.com/github/aman685892/Data-Science-Practice/blob/main/Copy_of_python_iterations.ipynb\" target=\"_parent\"><img src=\"https://colab.research.google.com/assets/colab-badge.svg\" alt=\"Open In Colab\"/></a>"
      ]
    },
    {
      "cell_type": "code",
      "execution_count": 1,
      "metadata": {
        "id": "Ap0YcLPZ8oJR",
        "colab": {
          "base_uri": "https://localhost:8080/"
        },
        "outputId": "a97aa189-f25c-42de-ae88-fd76f0b14241"
      },
      "outputs": [
        {
          "output_type": "stream",
          "name": "stdout",
          "text": [
            "0\n",
            "2\n",
            "4\n",
            "6\n",
            "8\n"
          ]
        }
      ],
      "source": [
        "even=[0,2,4,6,8]\n",
        "for n in even:\n",
        "  print(n)"
      ]
    },
    {
      "cell_type": "code",
      "source": [
        "for n in even:\n",
        "  print(n, end=\" \")"
      ],
      "metadata": {
        "id": "eNL9GLMB9XzR",
        "colab": {
          "base_uri": "https://localhost:8080/"
        },
        "outputId": "928fcb18-8358-456e-f09e-1b02dd721918"
      },
      "execution_count": 2,
      "outputs": [
        {
          "output_type": "stream",
          "name": "stdout",
          "text": [
            "0 2 4 6 8 "
          ]
        }
      ]
    },
    {
      "cell_type": "code",
      "source": [
        "for n in even:\n",
        "  print(n, end=\"    \")"
      ],
      "metadata": {
        "id": "LwAlXZP9987L",
        "colab": {
          "base_uri": "https://localhost:8080/"
        },
        "outputId": "3158f6d9-229a-4da6-eb1e-a607c50237e6"
      },
      "execution_count": 3,
      "outputs": [
        {
          "output_type": "stream",
          "name": "stdout",
          "text": [
            "0    2    4    6    8    "
          ]
        }
      ]
    },
    {
      "cell_type": "code",
      "source": [
        "digits = [0,1,2,3,4,5,6,7,8,9]\n",
        "for x in digits:\n",
        "    print(x)"
      ],
      "metadata": {
        "id": "VLA7LMNc-Znq",
        "colab": {
          "base_uri": "https://localhost:8080/"
        },
        "outputId": "79b81de8-1342-4827-9bac-4d97a0582b7f"
      },
      "execution_count": 4,
      "outputs": [
        {
          "output_type": "stream",
          "name": "stdout",
          "text": [
            "0\n",
            "1\n",
            "2\n",
            "3\n",
            "4\n",
            "5\n",
            "6\n",
            "7\n",
            "8\n",
            "9\n"
          ]
        }
      ]
    },
    {
      "cell_type": "code",
      "source": [
        "x=1\n",
        "while x<=30:\n",
        "  print(x,end=\" \")\n",
        "  x=x+2"
      ],
      "metadata": {
        "id": "NcwpZ6jXApeC",
        "colab": {
          "base_uri": "https://localhost:8080/"
        },
        "outputId": "ed00dfd2-d092-4395-b9a3-00407aba139b"
      },
      "execution_count": 5,
      "outputs": [
        {
          "output_type": "stream",
          "name": "stdout",
          "text": [
            "1 3 5 7 9 11 13 15 17 19 21 23 25 27 29 "
          ]
        }
      ]
    },
    {
      "cell_type": "code",
      "source": [
        "range(3,4)"
      ],
      "metadata": {
        "id": "3VjoyBEeC1Dq",
        "colab": {
          "base_uri": "https://localhost:8080/"
        },
        "outputId": "b88ffe5a-7536-449b-e4a9-38810b6dc12a"
      },
      "execution_count": 6,
      "outputs": [
        {
          "output_type": "execute_result",
          "data": {
            "text/plain": [
              "range(3, 4)"
            ]
          },
          "metadata": {},
          "execution_count": 6
        }
      ]
    },
    {
      "cell_type": "code",
      "source": [
        "list(range(3,4))"
      ],
      "metadata": {
        "id": "UwAMfnqpC3pb",
        "colab": {
          "base_uri": "https://localhost:8080/"
        },
        "outputId": "3109bcb5-0afb-408f-a3c3-8907cadb5e28"
      },
      "execution_count": 7,
      "outputs": [
        {
          "output_type": "execute_result",
          "data": {
            "text/plain": [
              "[3]"
            ]
          },
          "metadata": {},
          "execution_count": 7
        }
      ]
    },
    {
      "cell_type": "code",
      "source": [
        "list(range(1,34,3)) # using range pythin built in function a lists is created"
      ],
      "metadata": {
        "id": "AJYTrO3IC7g-",
        "colab": {
          "base_uri": "https://localhost:8080/"
        },
        "outputId": "5667fb9f-abbd-42bb-942a-79ac82a9a51b"
      },
      "execution_count": 8,
      "outputs": [
        {
          "output_type": "execute_result",
          "data": {
            "text/plain": [
              "[1, 4, 7, 10, 13, 16, 19, 22, 25, 28, 31]"
            ]
          },
          "metadata": {},
          "execution_count": 8
        }
      ]
    },
    {
      "cell_type": "code",
      "source": [
        "range(10)"
      ],
      "metadata": {
        "id": "WqBekFUaDJZa",
        "colab": {
          "base_uri": "https://localhost:8080/"
        },
        "outputId": "390346c9-3d3a-4831-a6c7-09b2eaee2a74"
      },
      "execution_count": 9,
      "outputs": [
        {
          "output_type": "execute_result",
          "data": {
            "text/plain": [
              "range(0, 10)"
            ]
          },
          "metadata": {},
          "execution_count": 9
        }
      ]
    },
    {
      "cell_type": "code",
      "source": [
        "list(range(10))"
      ],
      "metadata": {
        "id": "SYOc5os5DbCP",
        "colab": {
          "base_uri": "https://localhost:8080/"
        },
        "outputId": "f0926d87-d51b-4bcb-c160-d65b8833b75c"
      },
      "execution_count": 10,
      "outputs": [
        {
          "output_type": "execute_result",
          "data": {
            "text/plain": [
              "[0, 1, 2, 3, 4, 5, 6, 7, 8, 9]"
            ]
          },
          "metadata": {},
          "execution_count": 10
        }
      ]
    },
    {
      "cell_type": "markdown",
      "source": [],
      "metadata": {
        "id": "XfOhMMlqDo5s"
      }
    },
    {
      "cell_type": "code",
      "source": [
        "list(range(1,89,5))"
      ],
      "metadata": {
        "id": "QHzqYoyBDeQZ",
        "colab": {
          "base_uri": "https://localhost:8080/"
        },
        "outputId": "c6661fca-6700-477d-826c-58ab8c20707f"
      },
      "execution_count": 11,
      "outputs": [
        {
          "output_type": "execute_result",
          "data": {
            "text/plain": [
              "[1, 6, 11, 16, 21, 26, 31, 36, 41, 46, 51, 56, 61, 66, 71, 76, 81, 86]"
            ]
          },
          "metadata": {},
          "execution_count": 11
        }
      ]
    },
    {
      "cell_type": "code",
      "source": [
        "range(3,7)"
      ],
      "metadata": {
        "id": "9_7IlUqRDj17",
        "colab": {
          "base_uri": "https://localhost:8080/"
        },
        "outputId": "c11d3c23-996d-411e-81a7-99cd7285cfdf"
      },
      "execution_count": 12,
      "outputs": [
        {
          "output_type": "execute_result",
          "data": {
            "text/plain": [
              "range(3, 7)"
            ]
          },
          "metadata": {},
          "execution_count": 12
        }
      ]
    },
    {
      "cell_type": "code",
      "source": [
        "list(range(3,7))"
      ],
      "metadata": {
        "id": "Mx1YOQhCDxOZ",
        "colab": {
          "base_uri": "https://localhost:8080/"
        },
        "outputId": "8976a375-ee5b-4a87-b32e-0abbe8e1c63d"
      },
      "execution_count": 13,
      "outputs": [
        {
          "output_type": "execute_result",
          "data": {
            "text/plain": [
              "[3, 4, 5, 6]"
            ]
          },
          "metadata": {},
          "execution_count": 13
        }
      ]
    },
    {
      "cell_type": "code",
      "source": [
        "list(range(1,20,2))"
      ],
      "metadata": {
        "id": "WY1Vr5ejD5z4",
        "colab": {
          "base_uri": "https://localhost:8080/"
        },
        "outputId": "155d5918-08c3-46a0-dfea-0644326ed4e7"
      },
      "execution_count": 14,
      "outputs": [
        {
          "output_type": "execute_result",
          "data": {
            "text/plain": [
              "[1, 3, 5, 7, 9, 11, 13, 15, 17, 19]"
            ]
          },
          "metadata": {},
          "execution_count": 14
        }
      ]
    },
    {
      "cell_type": "code",
      "source": [
        "list(range(1,10))"
      ],
      "metadata": {
        "id": "zj_1G0okELHB",
        "colab": {
          "base_uri": "https://localhost:8080/"
        },
        "outputId": "07e50bb4-84c7-426b-bcb1-072c4dde66f6"
      },
      "execution_count": 15,
      "outputs": [
        {
          "output_type": "execute_result",
          "data": {
            "text/plain": [
              "[1, 2, 3, 4, 5, 6, 7, 8, 9]"
            ]
          },
          "metadata": {},
          "execution_count": 15
        }
      ]
    },
    {
      "cell_type": "markdown",
      "source": [
        "Use the range() function to create a list with all numbers from 1 to 10."
      ],
      "metadata": {
        "id": "pKrj20SNEVDc"
      }
    },
    {
      "cell_type": "code",
      "source": [
        "list(range(1,11))\n"
      ],
      "metadata": {
        "id": "vDh139JfEVzB",
        "colab": {
          "base_uri": "https://localhost:8080/"
        },
        "outputId": "df6a58c5-4761-4a39-efbb-569de286983f"
      },
      "execution_count": 16,
      "outputs": [
        {
          "output_type": "execute_result",
          "data": {
            "text/plain": [
              "[1, 2, 3, 4, 5, 6, 7, 8, 9, 10]"
            ]
          },
          "metadata": {},
          "execution_count": 16
        }
      ]
    },
    {
      "cell_type": "code",
      "source": [
        "list(range(20))"
      ],
      "metadata": {
        "id": "I-hn876xEheC",
        "colab": {
          "base_uri": "https://localhost:8080/"
        },
        "outputId": "da65f99c-31e9-442d-dcce-b3d32595040a"
      },
      "execution_count": 17,
      "outputs": [
        {
          "output_type": "execute_result",
          "data": {
            "text/plain": [
              "[0, 1, 2, 3, 4, 5, 6, 7, 8, 9, 10, 11, 12, 13, 14, 15, 16, 17, 18, 19]"
            ]
          },
          "metadata": {},
          "execution_count": 17
        }
      ]
    },
    {
      "cell_type": "code",
      "source": [
        "list(range(0,31,2))"
      ],
      "metadata": {
        "id": "TeH0-dffE6f2",
        "colab": {
          "base_uri": "https://localhost:8080/"
        },
        "outputId": "b23bdedd-dfe8-431b-9f5e-bdddfb84b832"
      },
      "execution_count": 18,
      "outputs": [
        {
          "output_type": "execute_result",
          "data": {
            "text/plain": [
              "[0, 2, 4, 6, 8, 10, 12, 14, 16, 18, 20, 22, 24, 26, 28, 30]"
            ]
          },
          "metadata": {},
          "execution_count": 18
        }
      ]
    },
    {
      "cell_type": "code",
      "source": [
        "range(10)"
      ],
      "metadata": {
        "id": "HJGT-Xc6FHuT",
        "colab": {
          "base_uri": "https://localhost:8080/"
        },
        "outputId": "e9159504-330f-4ec0-e02d-8f3bb887c44e"
      },
      "execution_count": 19,
      "outputs": [
        {
          "output_type": "execute_result",
          "data": {
            "text/plain": [
              "range(0, 10)"
            ]
          },
          "metadata": {},
          "execution_count": 19
        }
      ]
    },
    {
      "cell_type": "code",
      "source": [
        "for x in range(10):\n",
        "  print(2**x,end=\" \")\n"
      ],
      "metadata": {
        "id": "Lk7wDGfNFLHL",
        "colab": {
          "base_uri": "https://localhost:8080/"
        },
        "outputId": "d18857fe-a416-4609-911b-1654c42c59de"
      },
      "execution_count": 20,
      "outputs": [
        {
          "output_type": "stream",
          "name": "stdout",
          "text": [
            "1 2 4 8 16 32 64 128 256 512 "
          ]
        }
      ]
    },
    {
      "cell_type": "code",
      "source": [
        "for x in range(12):\n",
        "  if x%2==0:\n",
        "    print(x, \"is even\", end=\" \" )\n",
        "  else:\n",
        "    print(x ,\"is odd\" , end= \" \")"
      ],
      "metadata": {
        "id": "huUcBp1vFfvw",
        "colab": {
          "base_uri": "https://localhost:8080/"
        },
        "outputId": "8d1632cb-c2a4-4720-ee6e-4556d3e079aa"
      },
      "execution_count": 21,
      "outputs": [
        {
          "output_type": "stream",
          "name": "stdout",
          "text": [
            "0 is even 1 is odd 2 is even 3 is odd 4 is even 5 is odd 6 is even 7 is odd 8 is even 9 is odd 10 is even 11 is odd "
          ]
        }
      ]
    },
    {
      "cell_type": "code",
      "source": [
        "x=[0,1,2]\n",
        "for item in x:\n",
        "  print(item,end=\" \")"
      ],
      "metadata": {
        "id": "JFgt1XwwHJOd",
        "colab": {
          "base_uri": "https://localhost:8080/"
        },
        "outputId": "8eed329d-5ffd-4034-8921-8ab507b730e8"
      },
      "execution_count": 22,
      "outputs": [
        {
          "output_type": "stream",
          "name": "stdout",
          "text": [
            "0 1 2 "
          ]
        }
      ]
    },
    {
      "cell_type": "code",
      "source": [
        "for item in range(len(x)):\n",
        "  print(x[item],end=\" \")"
      ],
      "metadata": {
        "id": "Hl3ZqZPTHSBl",
        "colab": {
          "base_uri": "https://localhost:8080/"
        },
        "outputId": "d61f5a50-a339-4551-ad72-fcf0018b2724"
      },
      "execution_count": 23,
      "outputs": [
        {
          "output_type": "stream",
          "name": "stdout",
          "text": [
            "0 1 2 "
          ]
        }
      ]
    },
    {
      "cell_type": "code",
      "source": [
        "c=list(range(1,11))\n",
        "for item in c:\n",
        "    item=item*2\n",
        "    print(item)"
      ],
      "metadata": {
        "id": "3NlirFrUHxeS",
        "colab": {
          "base_uri": "https://localhost:8080/"
        },
        "outputId": "f84855e6-a3a1-4f86-bc3e-5077c8a53df3"
      },
      "execution_count": 24,
      "outputs": [
        {
          "output_type": "stream",
          "name": "stdout",
          "text": [
            "2\n",
            "4\n",
            "6\n",
            "8\n",
            "10\n",
            "12\n",
            "14\n",
            "16\n",
            "18\n",
            "20\n"
          ]
        }
      ]
    },
    {
      "cell_type": "code",
      "source": [],
      "metadata": {
        "id": "KBrd76YSJqJ0"
      },
      "execution_count": 24,
      "outputs": []
    },
    {
      "cell_type": "code",
      "source": [
        "for x in range(1,31):\n",
        "    if x%2==1:\n",
        "        print(x,end=\" \")\n",
        "    else:\n",
        "        print(\"Even\",end=\" \")"
      ],
      "metadata": {
        "id": "cjtSkHCcKxfi",
        "colab": {
          "base_uri": "https://localhost:8080/"
        },
        "outputId": "105cd05a-c043-455e-f3b0-02c4b3f5fe4f"
      },
      "execution_count": 25,
      "outputs": [
        {
          "output_type": "stream",
          "name": "stdout",
          "text": [
            "1 Even 3 Even 5 Even 7 Even 9 Even 11 Even 13 Even 15 Even 17 Even 19 Even 21 Even 23 Even 25 Even 27 Even 29 Even "
          ]
        }
      ]
    },
    {
      "cell_type": "code",
      "source": [
        "for x in range(1,31):\n",
        "    if x % 2 == 1:\n",
        "        print (x, end = \" \")\n",
        "    else:\n",
        "        print (\"Even\", end = \" \")\n"
      ],
      "metadata": {
        "id": "zmtK2bpAK-rm",
        "colab": {
          "base_uri": "https://localhost:8080/"
        },
        "outputId": "60ce9d80-c1e8-4881-936b-3cd4688656da"
      },
      "execution_count": 26,
      "outputs": [
        {
          "output_type": "stream",
          "name": "stdout",
          "text": [
            "1 Even 3 Even 5 Even 7 Even 9 Even 11 Even 13 Even 15 Even 17 Even 19 Even 21 Even 23 Even 25 Even 27 Even 29 Even "
          ]
        }
      ]
    },
    {
      "cell_type": "code",
      "source": [
        "n = [1,2,3,4,5,6]\n",
        "for x in n:\n",
        "    print(x*10,end=\" \")\n",
        "\n",
        "for x in range(1,7):\n",
        "    print(x*10,end=\" \")"
      ],
      "metadata": {
        "id": "k39k4ll5LBK8",
        "colab": {
          "base_uri": "https://localhost:8080/"
        },
        "outputId": "6c7817ab-42b0-49e5-ca4d-451204b2808a"
      },
      "execution_count": 27,
      "outputs": [
        {
          "output_type": "stream",
          "name": "stdout",
          "text": [
            "10 20 30 40 50 60 10 20 30 40 50 60 "
          ]
        }
      ]
    },
    {
      "cell_type": "code",
      "source": [
        "n = [1,2,3,4,5,6]\n",
        "\n",
        "for item in n:\n",
        "    print (item * 10, end = \" \")\n",
        "\n",
        "for item in range(len(n)):\n",
        "    print (n[item] * 10, end = \" \")\n"
      ],
      "metadata": {
        "id": "2pt7BVb_MSeX",
        "colab": {
          "base_uri": "https://localhost:8080/"
        },
        "outputId": "63acf47b-4951-414f-b7f2-ca332ae370e7"
      },
      "execution_count": 28,
      "outputs": [
        {
          "output_type": "stream",
          "name": "stdout",
          "text": [
            "10 20 30 40 50 60 10 20 30 40 50 60 "
          ]
        }
      ]
    },
    {
      "cell_type": "code",
      "source": [
        "def count(numbers):\n",
        "  total=0\n",
        "  for x in numbers:\n",
        "    if x<20:\n",
        "      total=total+1\n",
        "  return total # loop ke bahar hona chahie"
      ],
      "metadata": {
        "id": "GqYtGJDCOFbu"
      },
      "execution_count": 29,
      "outputs": []
    },
    {
      "cell_type": "code",
      "source": [
        "list_1=[1,3,7,15,23,43,56,98]\n",
        "print(count(list_1))"
      ],
      "metadata": {
        "id": "F5hyevR1OYkY",
        "colab": {
          "base_uri": "https://localhost:8080/"
        },
        "outputId": "93adab59-cb88-491b-8ea5-a72b8b683e92"
      },
      "execution_count": 30,
      "outputs": [
        {
          "output_type": "stream",
          "name": "stdout",
          "text": [
            "4\n"
          ]
        }
      ]
    },
    {
      "cell_type": "code",
      "source": [
        "nums = [1,35,12,24,31,51,70,100]\n",
        "def count(numbers):\n",
        "    total=0\n",
        "    for x in numbers:\n",
        "        if x<20:\n",
        "            total=total+1\n",
        "    return total\n",
        "\n",
        "print(count(nums))"
      ],
      "metadata": {
        "colab": {
          "base_uri": "https://localhost:8080/"
        },
        "id": "qeMbub1lRY3P",
        "outputId": "ee9c6983-669d-40b9-d20d-b6e9b534121c"
      },
      "execution_count": 31,
      "outputs": [
        {
          "output_type": "stream",
          "name": "stdout",
          "text": [
            "2\n"
          ]
        }
      ]
    },
    {
      "cell_type": "code",
      "source": [],
      "metadata": {
        "id": "S_c5HBP3SUJ1"
      },
      "execution_count": 31,
      "outputs": []
    }
  ]
}