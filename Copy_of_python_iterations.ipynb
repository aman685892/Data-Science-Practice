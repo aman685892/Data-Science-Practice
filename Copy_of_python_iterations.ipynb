{
  "nbformat": 4,
  "nbformat_minor": 0,
  "metadata": {
    "colab": {
      "provenance": []
    },
    "kernelspec": {
      "name": "python3",
      "display_name": "Python 3"
    },
    "language_info": {
      "name": "python"
    }
  },
  "cells": [
    {
      "cell_type": "code",
      "execution_count": null,
      "metadata": {
        "id": "Ap0YcLPZ8oJR"
      },
      "outputs": [],
      "source": [
        "even=[0,2,4,6,8]\n",
        "for n in even:\n",
        "  print(n)"
      ]
    },
    {
      "cell_type": "code",
      "source": [
        "for n in even:\n",
        "  print(n, end=\" \")"
      ],
      "metadata": {
        "id": "eNL9GLMB9XzR"
      },
      "execution_count": null,
      "outputs": []
    },
    {
      "cell_type": "code",
      "source": [
        "for n in even:\n",
        "  print(n, end=\"    \")"
      ],
      "metadata": {
        "id": "LwAlXZP9987L"
      },
      "execution_count": null,
      "outputs": []
    },
    {
      "cell_type": "code",
      "source": [
        "digits = [0,1,2,3,4,5,6,7,8,9]\n",
        "for x in digits:\n",
        "    print(x)"
      ],
      "metadata": {
        "id": "VLA7LMNc-Znq"
      },
      "execution_count": null,
      "outputs": []
    },
    {
      "cell_type": "code",
      "source": [
        "x=1\n",
        "while x<=30:\n",
        "  print(x,end=\" \")\n",
        "  x=x+2"
      ],
      "metadata": {
        "id": "NcwpZ6jXApeC"
      },
      "execution_count": null,
      "outputs": []
    },
    {
      "cell_type": "code",
      "source": [
        "range(3,4)"
      ],
      "metadata": {
        "id": "3VjoyBEeC1Dq"
      },
      "execution_count": null,
      "outputs": []
    },
    {
      "cell_type": "code",
      "source": [
        "list(range(3,4))"
      ],
      "metadata": {
        "id": "UwAMfnqpC3pb"
      },
      "execution_count": null,
      "outputs": []
    },
    {
      "cell_type": "code",
      "source": [
        "list(range(1,34,3)) # using range pythin built in function a lists is created"
      ],
      "metadata": {
        "id": "AJYTrO3IC7g-"
      },
      "execution_count": null,
      "outputs": []
    },
    {
      "cell_type": "code",
      "source": [
        "range(10)"
      ],
      "metadata": {
        "id": "WqBekFUaDJZa"
      },
      "execution_count": null,
      "outputs": []
    },
    {
      "cell_type": "code",
      "source": [
        "list(range(10))"
      ],
      "metadata": {
        "id": "SYOc5os5DbCP"
      },
      "execution_count": null,
      "outputs": []
    },
    {
      "cell_type": "markdown",
      "source": [],
      "metadata": {
        "id": "XfOhMMlqDo5s"
      }
    },
    {
      "cell_type": "code",
      "source": [
        "list(range(1,89,5))"
      ],
      "metadata": {
        "id": "QHzqYoyBDeQZ"
      },
      "execution_count": null,
      "outputs": []
    },
    {
      "cell_type": "code",
      "source": [
        "range(3,7)"
      ],
      "metadata": {
        "id": "9_7IlUqRDj17"
      },
      "execution_count": null,
      "outputs": []
    },
    {
      "cell_type": "code",
      "source": [
        "list(range(3,7))"
      ],
      "metadata": {
        "id": "Mx1YOQhCDxOZ"
      },
      "execution_count": null,
      "outputs": []
    },
    {
      "cell_type": "code",
      "source": [
        "list(range(1,20,2))"
      ],
      "metadata": {
        "id": "WY1Vr5ejD5z4"
      },
      "execution_count": null,
      "outputs": []
    },
    {
      "cell_type": "code",
      "source": [
        "list(range(1,10))"
      ],
      "metadata": {
        "id": "zj_1G0okELHB"
      },
      "execution_count": null,
      "outputs": []
    },
    {
      "cell_type": "markdown",
      "source": [
        "Use the range() function to create a list with all numbers from 1 to 10."
      ],
      "metadata": {
        "id": "pKrj20SNEVDc"
      }
    },
    {
      "cell_type": "code",
      "source": [
        "list(range(1,11))\n"
      ],
      "metadata": {
        "id": "vDh139JfEVzB"
      },
      "execution_count": null,
      "outputs": []
    },
    {
      "cell_type": "code",
      "source": [
        "list(range(20))"
      ],
      "metadata": {
        "id": "I-hn876xEheC"
      },
      "execution_count": null,
      "outputs": []
    },
    {
      "cell_type": "code",
      "source": [
        "list(range(0,31,2))"
      ],
      "metadata": {
        "id": "TeH0-dffE6f2"
      },
      "execution_count": null,
      "outputs": []
    },
    {
      "cell_type": "code",
      "source": [
        "range(10)"
      ],
      "metadata": {
        "id": "HJGT-Xc6FHuT"
      },
      "execution_count": null,
      "outputs": []
    },
    {
      "cell_type": "code",
      "source": [
        "for x in range(10):\n",
        "  print(2**x,end=\" \")\n"
      ],
      "metadata": {
        "id": "Lk7wDGfNFLHL"
      },
      "execution_count": null,
      "outputs": []
    },
    {
      "cell_type": "code",
      "source": [
        "for x in range(12):\n",
        "  if x%2==0:\n",
        "    print(x, \"is even\", end=\" \" )\n",
        "  else:\n",
        "    print(x ,\"is odd\" , end= \" \")"
      ],
      "metadata": {
        "id": "huUcBp1vFfvw"
      },
      "execution_count": null,
      "outputs": []
    },
    {
      "cell_type": "code",
      "source": [
        "x=[0,1,2]\n",
        "for item in x:\n",
        "  print(item,end=\" \")"
      ],
      "metadata": {
        "id": "JFgt1XwwHJOd"
      },
      "execution_count": null,
      "outputs": []
    },
    {
      "cell_type": "code",
      "source": [
        "for item in range(len(x)):\n",
        "  print(x[item],end=\" \")"
      ],
      "metadata": {
        "id": "Hl3ZqZPTHSBl"
      },
      "execution_count": null,
      "outputs": []
    },
    {
      "cell_type": "code",
      "source": [
        "c=list(range(1,11))\n",
        "for item in c:\n",
        "    item=item*2\n",
        "    print(item)"
      ],
      "metadata": {
        "id": "3NlirFrUHxeS"
      },
      "execution_count": null,
      "outputs": []
    },
    {
      "cell_type": "code",
      "source": [],
      "metadata": {
        "id": "KBrd76YSJqJ0"
      },
      "execution_count": null,
      "outputs": []
    },
    {
      "cell_type": "code",
      "source": [
        "for x in range(1,31):\n",
        "    if x%2==1:\n",
        "        print(x,end=\" \")\n",
        "    else:\n",
        "        print(\"Even\",end=\" \")"
      ],
      "metadata": {
        "id": "cjtSkHCcKxfi"
      },
      "execution_count": null,
      "outputs": []
    },
    {
      "cell_type": "code",
      "source": [
        "for x in range(1,31):\n",
        "    if x % 2 == 1:\n",
        "        print (x, end = \" \")\n",
        "    else:\n",
        "        print (\"Even\", end = \" \")\n"
      ],
      "metadata": {
        "id": "zmtK2bpAK-rm"
      },
      "execution_count": null,
      "outputs": []
    },
    {
      "cell_type": "code",
      "source": [
        "n = [1,2,3,4,5,6]\n",
        "for x in n:\n",
        "    print(x*10,end=\" \")\n",
        "\n",
        "for x in range(1,7):\n",
        "    print(x*10,end=\" \")"
      ],
      "metadata": {
        "id": "k39k4ll5LBK8"
      },
      "execution_count": null,
      "outputs": []
    },
    {
      "cell_type": "code",
      "source": [
        "n = [1,2,3,4,5,6]\n",
        "\n",
        "for item in n:\n",
        "    print (item * 10, end = \" \")\n",
        "\n",
        "for item in range(len(n)):\n",
        "    print (n[item] * 10, end = \" \")\n"
      ],
      "metadata": {
        "id": "2pt7BVb_MSeX"
      },
      "execution_count": null,
      "outputs": []
    },
    {
      "cell_type": "code",
      "source": [
        "def count(numbers):\n",
        "  total=0\n",
        "  for x in numbers:\n",
        "    if x<20:\n",
        "      total=total+1\n",
        "  return total # loop ke bahar hona chahie"
      ],
      "metadata": {
        "id": "GqYtGJDCOFbu"
      },
      "execution_count": null,
      "outputs": []
    },
    {
      "cell_type": "code",
      "source": [
        "list_1=[1,3,7,15,23,43,56,98]\n",
        "print(count(list_1))"
      ],
      "metadata": {
        "id": "F5hyevR1OYkY",
        "colab": {
          "base_uri": "https://localhost:8080/"
        },
        "outputId": "173ef1f6-1745-43b3-9275-0523cefd1f31"
      },
      "execution_count": null,
      "outputs": [
        {
          "output_type": "stream",
          "name": "stdout",
          "text": [
            "4\n"
          ]
        }
      ]
    },
    {
      "cell_type": "code",
      "source": [
        "nums = [1,35,12,24,31,51,70,100]\n",
        "def count(numbers):\n",
        "    total=0\n",
        "    for x in numbers:\n",
        "        if x<20:\n",
        "            total=total+1\n",
        "    return total\n",
        "\n",
        "print(count(nums))"
      ],
      "metadata": {
        "colab": {
          "base_uri": "https://localhost:8080/"
        },
        "id": "qeMbub1lRY3P",
        "outputId": "e5049bc8-be05-4acb-e746-5ceabbb80c7b"
      },
      "execution_count": null,
      "outputs": [
        {
          "output_type": "stream",
          "name": "stdout",
          "text": [
            "2\n"
          ]
        }
      ]
    },
    {
      "cell_type": "code",
      "source": [],
      "metadata": {
        "id": "S_c5HBP3SUJ1"
      },
      "execution_count": null,
      "outputs": []
    }
  ]
}