{
  "nbformat": 4,
  "nbformat_minor": 0,
  "metadata": {
    "colab": {
      "provenance": []
    },
    "kernelspec": {
      "name": "python3",
      "display_name": "Python 3"
    },
    "language_info": {
      "name": "python"
    }
  },
  "cells": [
    {
      "cell_type": "code",
      "source": [
        "a,b,c,d=(10,20,30,40)"
      ],
      "metadata": {
        "id": "A-LPWQkV4RkR"
      },
      "execution_count": null,
      "outputs": []
    },
    {
      "cell_type": "code",
      "source": [
        "print(b)\n",
        "print(d)"
      ],
      "metadata": {
        "id": "5kS849S95V0I",
        "colab": {
          "base_uri": "https://localhost:8080/"
        },
        "outputId": "f2d57a59-5fde-4714-a143-97a5c90c8931"
      },
      "execution_count": null,
      "outputs": [
        {
          "output_type": "stream",
          "name": "stdout",
          "text": [
            "20\n",
            "40\n"
          ]
        }
      ]
    }
  ]
}