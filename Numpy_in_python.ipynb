{
  "nbformat": 4,
  "nbformat_minor": 0,
  "metadata": {
    "colab": {
      "provenance": [],
      "authorship_tag": "ABX9TyNjEVm5Qg1+sBTDRALAA7mG",
      "include_colab_link": true
    },
    "kernelspec": {
      "name": "python3",
      "display_name": "Python 3"
    },
    "language_info": {
      "name": "python"
    }
  },
  "cells": [
    {
      "cell_type": "markdown",
      "metadata": {
        "id": "view-in-github",
        "colab_type": "text"
      },
      "source": [
        "<a href=\"https://colab.research.google.com/github/aman685892/Data-Science-Practice/blob/main/Numpy_in_python.ipynb\" target=\"_parent\"><img src=\"https://colab.research.google.com/assets/colab-badge.svg\" alt=\"Open In Colab\"/></a>"
      ]
    },
    {
      "cell_type": "code",
      "source": [
        "import numpy as np\n",
        "arr1=np.array([1,2,3,4])\n",
        "print(arr1)"
      ],
      "metadata": {
        "colab": {
          "base_uri": "https://localhost:8080/"
        },
        "id": "4PLDyKcXlGfq",
        "outputId": "c58099cf-950d-4e5d-c361-5aaeab3b728f"
      },
      "execution_count": 259,
      "outputs": [
        {
          "output_type": "stream",
          "name": "stdout",
          "text": [
            "[1 2 3 4]\n",
            "[1 2 3 4]\n"
          ]
        }
      ]
    },
    {
      "cell_type": "code",
      "source": [
        "print(type(arr1))"
      ],
      "metadata": {
        "colab": {
          "base_uri": "https://localhost:8080/"
        },
        "id": "TlyT4PAtlS6a",
        "outputId": "cfd3b7d9-6e33-45e3-9f6a-111807021855"
      },
      "execution_count": 260,
      "outputs": [
        {
          "output_type": "stream",
          "name": "stdout",
          "text": [
            "<class 'numpy.ndarray'>\n",
            "<class 'numpy.ndarray'>\n"
          ]
        }
      ]
    },
    {
      "cell_type": "code",
      "source": [
        "print(arr1.shape)"
      ],
      "metadata": {
        "colab": {
          "base_uri": "https://localhost:8080/"
        },
        "id": "nk6QvhRslW8C",
        "outputId": "22ca4b33-06b4-4909-8094-8dd2f0b5cba5"
      },
      "execution_count": 261,
      "outputs": [
        {
          "output_type": "stream",
          "name": "stdout",
          "text": [
            "(4,)\n",
            "(4,)\n"
          ]
        }
      ]
    },
    {
      "cell_type": "code",
      "source": [
        "arr2=np.array([1,2,3,4,5])\n",
        "print(arr2.reshape(1,5))"
      ],
      "metadata": {
        "colab": {
          "base_uri": "https://localhost:8080/"
        },
        "id": "kEFkuryIl9ty",
        "outputId": "cccae2b9-8cb8-4bd7-9cc1-4a8ac71ffbd9"
      },
      "execution_count": 262,
      "outputs": [
        {
          "output_type": "stream",
          "name": "stdout",
          "text": [
            "[[1 2 3 4 5]]\n",
            "[[1 2 3 4 5]]\n"
          ]
        }
      ]
    },
    {
      "cell_type": "code",
      "source": [
        "print(arr2.shape)"
      ],
      "metadata": {
        "colab": {
          "base_uri": "https://localhost:8080/"
        },
        "id": "SPJ6TVIPmV_J",
        "outputId": "cfcc37f9-3cca-4031-9dc4-8ff0c4ff7a90"
      },
      "execution_count": 263,
      "outputs": [
        {
          "output_type": "stream",
          "name": "stdout",
          "text": [
            "(5,)\n",
            "(5,)\n"
          ]
        }
      ]
    },
    {
      "cell_type": "code",
      "source": [
        "arr3=np.array([[1,2,3,4,5]])\n",
        "print(arr3.shape)"
      ],
      "metadata": {
        "colab": {
          "base_uri": "https://localhost:8080/"
        },
        "id": "oXQ1meV7miOU",
        "outputId": "fb2d0888-f453-4f43-8f0e-08aef5a6b772"
      },
      "execution_count": 264,
      "outputs": [
        {
          "output_type": "stream",
          "name": "stdout",
          "text": [
            "(1, 5)\n",
            "(1, 5)\n"
          ]
        }
      ]
    },
    {
      "cell_type": "code",
      "source": [
        "arr4=np.array([[1,2,3,4,5],[2,3,4,5,6]])\n",
        "print(arr4)\n",
        "print(arr4.shape)"
      ],
      "metadata": {
        "colab": {
          "base_uri": "https://localhost:8080/"
        },
        "id": "3I2n4GIQmoOg",
        "outputId": "6281d31a-1918-46a7-be76-e995db076695"
      },
      "execution_count": 267,
      "outputs": [
        {
          "output_type": "stream",
          "name": "stdout",
          "text": [
            "[[1 2 3 4 5]\n",
            " [2 3 4 5 6]]\n",
            "(2, 5)\n",
            "[[1 2 3 4 5]\n",
            " [2 3 4 5 6]]\n",
            "(2, 5)\n"
          ]
        }
      ]
    },
    {
      "cell_type": "code",
      "source": [
        "np.arange(0,10,2).reshape(5,1)"
      ],
      "metadata": {
        "colab": {
          "base_uri": "https://localhost:8080/"
        },
        "id": "ZAm3ojlRnGPW",
        "outputId": "2ea49b96-f938-4b17-cac1-8de527e1bdc1"
      },
      "execution_count": 268,
      "outputs": [
        {
          "output_type": "execute_result",
          "data": {
            "text/plain": [
              "array([[0],\n",
              "       [2],\n",
              "       [4],\n",
              "       [6],\n",
              "       [8]])"
            ]
          },
          "metadata": {},
          "execution_count": 266
        },
        {
          "output_type": "execute_result",
          "data": {
            "text/plain": [
              "array([[0],\n",
              "       [2],\n",
              "       [4],\n",
              "       [6],\n",
              "       [8]])"
            ]
          },
          "metadata": {},
          "execution_count": 268
        }
      ]
    },
    {
      "cell_type": "code",
      "source": [
        "np.ones((3,4))"
      ],
      "metadata": {
        "colab": {
          "base_uri": "https://localhost:8080/"
        },
        "id": "2dNtzs9Qngxx",
        "outputId": "735a7769-ef6d-4731-d7b1-37883227f50c"
      },
      "execution_count": 269,
      "outputs": [
        {
          "output_type": "execute_result",
          "data": {
            "text/plain": [
              "array([[1., 1., 1., 1.],\n",
              "       [1., 1., 1., 1.],\n",
              "       [1., 1., 1., 1.]])"
            ]
          },
          "metadata": {},
          "execution_count": 269
        }
      ]
    },
    {
      "cell_type": "code",
      "source": [
        "## Identitiy matrix\n",
        "np.eye(3,) ## all diagonal elements will be zero"
      ],
      "metadata": {
        "colab": {
          "base_uri": "https://localhost:8080/"
        },
        "id": "KSj8fmJun0qE",
        "outputId": "c4e15ffc-9657-4b7d-cf95-40df7e990839"
      },
      "execution_count": 270,
      "outputs": [
        {
          "output_type": "execute_result",
          "data": {
            "text/plain": [
              "array([[1., 0., 0.],\n",
              "       [0., 1., 0.],\n",
              "       [0., 0., 1.]])"
            ]
          },
          "metadata": {},
          "execution_count": 270
        }
      ]
    },
    {
      "cell_type": "code",
      "source": [
        "## Attributes of Numpy array\n",
        "arr=np.array([[1,2,3],[4,5,6]])\n",
        "print(\"Array:\",arr)\n",
        "print(\"Shape:\",arr.shape)\n",
        "print(\"Number of dimensions:\",arr.ndim)\n",
        "print(\"Size(Number of elements):\",arr.size)\n",
        "print(\"Data Type:\",arr.dtype)\n",
        "print(\"Item size(in bytes):\",arr.itemsize)"
      ],
      "metadata": {
        "colab": {
          "base_uri": "https://localhost:8080/"
        },
        "id": "wRLaR16joGGs",
        "outputId": "1c63c636-23dd-4ea4-c935-9a27ef898105"
      },
      "execution_count": 271,
      "outputs": [
        {
          "output_type": "stream",
          "name": "stdout",
          "text": [
            "Array: [[1 2 3]\n",
            " [4 5 6]]\n",
            "Shape: (2, 3)\n",
            "Number of dimensions: 2\n",
            "Size(Number of elements): 6\n",
            "Data Type: int64\n",
            "Item size(in bytes): 8\n"
          ]
        }
      ]
    },
    {
      "cell_type": "code",
      "source": [
        "## Numoy vectorized operation\n",
        "arr1=np.array([1,2,3,4,5])\n",
        "arr2=np.array([10,20,30,40,50])\n",
        "## Elememnt wise addition\n",
        "print(\"Addition\",arr1+arr2)\n",
        "##Element wise subtraction\n",
        "print(\"Subtraction:\",arr1-arr2)\n",
        "##Element wise multiolication\n",
        "print(\"Multiplication\",arr1*arr2)\n",
        " ##Elemnet wise division\n",
        "print(\"Division\",arr1/arr2)"
      ],
      "metadata": {
        "colab": {
          "base_uri": "https://localhost:8080/"
        },
        "id": "4BBtOkDvpbeP",
        "outputId": "6464f42c-7ea2-40a0-fffa-c17d34e4b658"
      },
      "execution_count": 272,
      "outputs": [
        {
          "output_type": "stream",
          "name": "stdout",
          "text": [
            "Addition [11 22 33 44 55]\n",
            "Subtraction: [ -9 -18 -27 -36 -45]\n",
            "Multiplication [ 10  40  90 160 250]\n",
            "Division [0.1 0.1 0.1 0.1 0.1]\n"
          ]
        }
      ]
    },
    {
      "cell_type": "code",
      "source": [
        "## Univrsal fuction\n",
        "arr5=np.array([2,3,5,6,7])\n",
        "## square root\n",
        "print(np.sqrt(arr5))\n",
        "##Exponential function\n",
        "print(np.exp(arr5))\n",
        "## sine function\n",
        "print(np.sin(arr5))\n",
        "##Cosine function\n",
        "print(np.cos(arr5))\n",
        "## natural log\n",
        "print(np.log(arr5))"
      ],
      "metadata": {
        "colab": {
          "base_uri": "https://localhost:8080/"
        },
        "id": "FW--ubR-sFsB",
        "outputId": "7f2b4437-b7a1-4948-8b97-73fffd2da453"
      },
      "execution_count": 273,
      "outputs": [
        {
          "output_type": "stream",
          "name": "stdout",
          "text": [
            "[1.41421356 1.73205081 2.23606798 2.44948974 2.64575131]\n",
            "[   7.3890561    20.08553692  148.4131591   403.42879349 1096.63315843]\n",
            "[ 0.90929743  0.14112001 -0.95892427 -0.2794155   0.6569866 ]\n",
            "[-0.41614684 -0.9899925   0.28366219  0.96017029  0.75390225]\n",
            "[0.69314718 1.09861229 1.60943791 1.79175947 1.94591015]\n"
          ]
        }
      ]
    },
    {
      "cell_type": "code",
      "source": [
        "## Array indexing and slicing using numpy\n",
        "arr7=np.array([[1,2,3,4],[5,6,7,8],[9,10,11,12]])\n",
        "print(arr7)"
      ],
      "metadata": {
        "colab": {
          "base_uri": "https://localhost:8080/"
        },
        "id": "iAOPDjDLuMQK",
        "outputId": "cc781bb3-b896-4d8c-a7a9-cdbba809b931"
      },
      "execution_count": 274,
      "outputs": [
        {
          "output_type": "stream",
          "name": "stdout",
          "text": [
            "[[ 1  2  3  4]\n",
            " [ 5  6  7  8]\n",
            " [ 9 10 11 12]]\n"
          ]
        }
      ]
    },
    {
      "cell_type": "code",
      "source": [
        "print(arr7[0])"
      ],
      "metadata": {
        "colab": {
          "base_uri": "https://localhost:8080/"
        },
        "id": "GxQBNRlvu-L0",
        "outputId": "7313c6c0-d6eb-420c-fd3a-e80e946d2324"
      },
      "execution_count": 275,
      "outputs": [
        {
          "output_type": "stream",
          "name": "stdout",
          "text": [
            "[1 2 3 4]\n"
          ]
        }
      ]
    },
    {
      "cell_type": "code",
      "source": [
        "print(arr7[0][0])"
      ],
      "metadata": {
        "colab": {
          "base_uri": "https://localhost:8080/"
        },
        "id": "imf9ouLKvDIu",
        "outputId": "10315a58-80e1-4268-ceb6-5ffcd6de3aff"
      },
      "execution_count": 276,
      "outputs": [
        {
          "output_type": "stream",
          "name": "stdout",
          "text": [
            "1\n"
          ]
        }
      ]
    },
    {
      "cell_type": "code",
      "source": [
        "print(arr7[1:2:])"
      ],
      "metadata": {
        "colab": {
          "base_uri": "https://localhost:8080/"
        },
        "id": "vLDUhg0zvO8L",
        "outputId": "9618d96c-ae62-4a76-9d01-b9bda41a4b72"
      },
      "execution_count": 277,
      "outputs": [
        {
          "output_type": "stream",
          "name": "stdout",
          "text": [
            "[[5 6 7 8]]\n"
          ]
        }
      ]
    },
    {
      "cell_type": "code",
      "source": [
        "print(arr7[1:,2:])"
      ],
      "metadata": {
        "colab": {
          "base_uri": "https://localhost:8080/"
        },
        "id": "w6TyOUOWwFOs",
        "outputId": "5c3e2d30-daa4-4cdd-862f-8f96cc572225"
      },
      "execution_count": 278,
      "outputs": [
        {
          "output_type": "stream",
          "name": "stdout",
          "text": [
            "[[ 7  8]\n",
            " [11 12]]\n"
          ]
        }
      ]
    },
    {
      "cell_type": "code",
      "source": [
        "print(arr7[0:2,2:])"
      ],
      "metadata": {
        "colab": {
          "base_uri": "https://localhost:8080/"
        },
        "id": "VwWSgB8bwPOQ",
        "outputId": "2415137d-74f9-4236-d55a-08f74b6f91cf"
      },
      "execution_count": 279,
      "outputs": [
        {
          "output_type": "stream",
          "name": "stdout",
          "text": [
            "[[3 4]\n",
            " [7 8]]\n"
          ]
        }
      ]
    },
    {
      "cell_type": "code",
      "source": [
        "## Modify the array elemets\n",
        "arr7[0][0]=100\n",
        "print(arr7)"
      ],
      "metadata": {
        "colab": {
          "base_uri": "https://localhost:8080/"
        },
        "id": "Q0bunSXsxJHn",
        "outputId": "70fdf1e1-af67-4efc-9bb2-dad5d77eae1c"
      },
      "execution_count": 280,
      "outputs": [
        {
          "output_type": "stream",
          "name": "stdout",
          "text": [
            "[[100   2   3   4]\n",
            " [  5   6   7   8]\n",
            " [  9  10  11  12]]\n"
          ]
        }
      ]
    },
    {
      "cell_type": "code",
      "source": [
        "arr7[1:]=9\n",
        "print(arr7)"
      ],
      "metadata": {
        "colab": {
          "base_uri": "https://localhost:8080/"
        },
        "id": "1At6BAovxojD",
        "outputId": "08097b5d-e0d7-483c-bde8-b7aba2125af0"
      },
      "execution_count": 281,
      "outputs": [
        {
          "output_type": "stream",
          "name": "stdout",
          "text": [
            "[[100   2   3   4]\n",
            " [  9   9   9   9]\n",
            " [  9   9   9   9]]\n"
          ]
        }
      ]
    },
    {
      "cell_type": "code",
      "source": [
        "## Statistical concepts-- Normalization\n",
        "## to have  a mean of 0 and standard deviation of 1\n",
        "data=np.array([1,2,3,4,5])\n",
        "## calculate the mean and standard deviation\n",
        "mean=np.mean(data)\n",
        "std_dev=np.std(data)\n",
        "# Normalize the data\n",
        "Normalized_data=(data-mean)/std_dev\n",
        "print(Normalized_data)\n"
      ],
      "metadata": {
        "colab": {
          "base_uri": "https://localhost:8080/"
        },
        "id": "eupKKONgyWRJ",
        "outputId": "73fd72a3-7177-4c02-c9ea-e8f4e56c8c2c"
      },
      "execution_count": 282,
      "outputs": [
        {
          "output_type": "stream",
          "name": "stdout",
          "text": [
            "[-1.41421356 -0.70710678  0.          0.70710678  1.41421356]\n"
          ]
        }
      ]
    },
    {
      "cell_type": "code",
      "source": [
        "data=np.array([1,2,3,4,5,6,7,8,9,10])\n",
        "## Mean\n",
        "print(np.mean(data))\n",
        "print(np.median(data))\n",
        "print(np.var(data))\n",
        "print(np.std(data))"
      ],
      "metadata": {
        "colab": {
          "base_uri": "https://localhost:8080/"
        },
        "id": "Cr6xWx_a1rKN",
        "outputId": "9ca2a7ae-fa16-4a6a-8c6b-311e1ddcef1b"
      },
      "execution_count": 283,
      "outputs": [
        {
          "output_type": "stream",
          "name": "stdout",
          "text": [
            "5.5\n",
            "5.5\n",
            "8.25\n",
            "2.8722813232690143\n"
          ]
        }
      ]
    },
    {
      "cell_type": "code",
      "source": [],
      "metadata": {
        "id": "qhXNFGoZ3DUp"
      },
      "execution_count": 283,
      "outputs": []
    },
    {
      "cell_type": "code",
      "source": [
        "## Logical operation\n",
        "data1=np.array([1,2,3,4,5,6,7,8,9,10])\n",
        "data1>5"
      ],
      "metadata": {
        "colab": {
          "base_uri": "https://localhost:8080/"
        },
        "id": "3AbZpNny3Cri",
        "outputId": "91d20572-e2a2-4a9e-f2fa-a496c9d6d701"
      },
      "execution_count": 256,
      "outputs": [
        {
          "output_type": "execute_result",
          "data": {
            "text/plain": [
              "array([False, False, False, False, False,  True,  True,  True,  True,\n",
              "        True])"
            ]
          },
          "metadata": {},
          "execution_count": 256
        }
      ]
    },
    {
      "cell_type": "code",
      "source": [
        "data[data>5]"
      ],
      "metadata": {
        "colab": {
          "base_uri": "https://localhost:8080/"
        },
        "id": "YjDOjxfJ3VUZ",
        "outputId": "6f39fba0-d308-4b9f-b222-69fe8afaa399"
      },
      "execution_count": 257,
      "outputs": [
        {
          "output_type": "execute_result",
          "data": {
            "text/plain": [
              "array([ 6,  7,  8,  9, 10])"
            ]
          },
          "metadata": {},
          "execution_count": 257
        }
      ]
    },
    {
      "cell_type": "code",
      "source": [
        "data1[(data>=5 & (data<=8))]"
      ],
      "metadata": {
        "colab": {
          "base_uri": "https://localhost:8080/"
        },
        "id": "AmsGB9Gj3X9f",
        "outputId": "6ab1ad65-45d0-457e-f7a9-d739a5aacfbe"
      },
      "execution_count": 258,
      "outputs": [
        {
          "output_type": "execute_result",
          "data": {
            "text/plain": [
              "array([ 1,  2,  3,  4,  5,  6,  7,  8,  9, 10])"
            ]
          },
          "metadata": {},
          "execution_count": 258
        }
      ]
    }
  ]
}